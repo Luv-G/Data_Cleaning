{
 "cells": [
  {
   "cell_type": "markdown",
   "id": "43ece1f3",
   "metadata": {},
   "source": [
    "# This exploratory data analysis is based on the products data provided by Amazon"
   ]
  },
  {
   "cell_type": "code",
   "execution_count": 748,
   "id": "294e8f7f",
   "metadata": {},
   "outputs": [],
   "source": [
    "#importing the libraries that will be used in this project\n",
    "import pandas as pd\n",
    "import matplotlib.pyplot as plt\n",
    "import numpy as np\n",
    "from termcolor import colored\n",
    "import wordcloud as wc"
   ]
  },
  {
   "cell_type": "code",
   "execution_count": 749,
   "id": "4323bec9",
   "metadata": {},
   "outputs": [
    {
     "name": "stdout",
     "output_type": "stream",
     "text": [
      "Initial shape of the dataframe is :  (7249, 31) \n",
      "\n",
      "The first 2 rows of the dataframe are- \n",
      "\n"
     ]
    },
    {
     "data": {
      "text/html": [
       "<div>\n",
       "<style scoped>\n",
       "    .dataframe tbody tr th:only-of-type {\n",
       "        vertical-align: middle;\n",
       "    }\n",
       "\n",
       "    .dataframe tbody tr th {\n",
       "        vertical-align: top;\n",
       "    }\n",
       "\n",
       "    .dataframe thead th {\n",
       "        text-align: right;\n",
       "    }\n",
       "</style>\n",
       "<table border=\"1\" class=\"dataframe\">\n",
       "  <thead>\n",
       "    <tr style=\"text-align: right;\">\n",
       "      <th></th>\n",
       "      <th>id</th>\n",
       "      <th>prices.amountMax</th>\n",
       "      <th>prices.amountMin</th>\n",
       "      <th>prices.availability</th>\n",
       "      <th>prices.condition</th>\n",
       "      <th>prices.currency</th>\n",
       "      <th>prices.dateSeen</th>\n",
       "      <th>prices.isSale</th>\n",
       "      <th>prices.merchant</th>\n",
       "      <th>prices.shipping</th>\n",
       "      <th>...</th>\n",
       "      <th>name</th>\n",
       "      <th>primaryCategories</th>\n",
       "      <th>sourceURLs</th>\n",
       "      <th>upc</th>\n",
       "      <th>weight</th>\n",
       "      <th>Unnamed: 26</th>\n",
       "      <th>Unnamed: 27</th>\n",
       "      <th>Unnamed: 28</th>\n",
       "      <th>Unnamed: 29</th>\n",
       "      <th>Unnamed: 30</th>\n",
       "    </tr>\n",
       "  </thead>\n",
       "  <tbody>\n",
       "    <tr>\n",
       "      <th>0</th>\n",
       "      <td>AVphzgbJLJeJML43fA0o</td>\n",
       "      <td>104.99</td>\n",
       "      <td>104.99</td>\n",
       "      <td>Yes</td>\n",
       "      <td>New</td>\n",
       "      <td>USD</td>\n",
       "      <td>2017-03-30T06:00:00Z,2017-03-10T22:00:00Z,2017...</td>\n",
       "      <td>False</td>\n",
       "      <td>Bestbuy.com</td>\n",
       "      <td>NaN</td>\n",
       "      <td>...</td>\n",
       "      <td>Sanus VLF410B1 10-Inch Super Slim Full-Motion ...</td>\n",
       "      <td>Electronics</td>\n",
       "      <td>https://www.amazon.com/Sanus-VLF410B1-10-Inch-...</td>\n",
       "      <td>7.94E+11</td>\n",
       "      <td>32.8 pounds</td>\n",
       "      <td>NaN</td>\n",
       "      <td>NaN</td>\n",
       "      <td>NaN</td>\n",
       "      <td>NaN</td>\n",
       "      <td>NaN</td>\n",
       "    </tr>\n",
       "    <tr>\n",
       "      <th>1</th>\n",
       "      <td>AVpgMuGwLJeJML43KY_c</td>\n",
       "      <td>69.00</td>\n",
       "      <td>64.99</td>\n",
       "      <td>In Stock</td>\n",
       "      <td>New</td>\n",
       "      <td>USD</td>\n",
       "      <td>2017-12-14T06:00:00Z</td>\n",
       "      <td>True</td>\n",
       "      <td>Walmart.com</td>\n",
       "      <td>Expedited</td>\n",
       "      <td>...</td>\n",
       "      <td>Boytone - 2500W 2.1-Ch. Home Theater System - ...</td>\n",
       "      <td>Electronics</td>\n",
       "      <td>http://reviews.bestbuy.com/3545/4784804/review...</td>\n",
       "      <td>6.42E+11</td>\n",
       "      <td>14 pounds</td>\n",
       "      <td>NaN</td>\n",
       "      <td>NaN</td>\n",
       "      <td>NaN</td>\n",
       "      <td>NaN</td>\n",
       "      <td>NaN</td>\n",
       "    </tr>\n",
       "  </tbody>\n",
       "</table>\n",
       "<p>2 rows × 31 columns</p>\n",
       "</div>"
      ],
      "text/plain": [
       "                     id  prices.amountMax  prices.amountMin  \\\n",
       "0  AVphzgbJLJeJML43fA0o            104.99            104.99   \n",
       "1  AVpgMuGwLJeJML43KY_c             69.00             64.99   \n",
       "\n",
       "  prices.availability prices.condition prices.currency  \\\n",
       "0                 Yes              New             USD   \n",
       "1            In Stock              New             USD   \n",
       "\n",
       "                                     prices.dateSeen  prices.isSale  \\\n",
       "0  2017-03-30T06:00:00Z,2017-03-10T22:00:00Z,2017...          False   \n",
       "1                               2017-12-14T06:00:00Z           True   \n",
       "\n",
       "  prices.merchant prices.shipping  ...  \\\n",
       "0     Bestbuy.com             NaN  ...   \n",
       "1     Walmart.com       Expedited  ...   \n",
       "\n",
       "                                                name primaryCategories  \\\n",
       "0  Sanus VLF410B1 10-Inch Super Slim Full-Motion ...       Electronics   \n",
       "1  Boytone - 2500W 2.1-Ch. Home Theater System - ...       Electronics   \n",
       "\n",
       "                                          sourceURLs       upc       weight  \\\n",
       "0  https://www.amazon.com/Sanus-VLF410B1-10-Inch-...  7.94E+11  32.8 pounds   \n",
       "1  http://reviews.bestbuy.com/3545/4784804/review...  6.42E+11    14 pounds   \n",
       "\n",
       "  Unnamed: 26 Unnamed: 27 Unnamed: 28 Unnamed: 29 Unnamed: 30  \n",
       "0         NaN         NaN         NaN         NaN         NaN  \n",
       "1         NaN         NaN         NaN         NaN         NaN  \n",
       "\n",
       "[2 rows x 31 columns]"
      ]
     },
     "execution_count": 749,
     "metadata": {},
     "output_type": "execute_result"
    }
   ],
   "source": [
    "#reading the data into a dataframe\n",
    "df = pd.read_csv(\"../sample.csv\")\n",
    "#Intial shape of the dataframe\n",
    "print(\"Initial shape of the dataframe is : \", df.shape , \"\\n\")\n",
    "#Printing the first 2 rows of the datframe\n",
    "print(\"The first 2 rows of the dataframe are-\", \"\\n\")\n",
    "df.head(2)"
   ]
  },
  {
   "cell_type": "markdown",
   "id": "df81f39a",
   "metadata": {},
   "source": [
    "As can be seen from the datframe, it has several \"unnamed\" columns having mostly null values. \n",
    "Let's check the complete data for null values."
   ]
  },
  {
   "cell_type": "code",
   "execution_count": 750,
   "id": "459d65cb",
   "metadata": {},
   "outputs": [
    {
     "data": {
      "text/html": [
       "<div>\n",
       "<style scoped>\n",
       "    .dataframe tbody tr th:only-of-type {\n",
       "        vertical-align: middle;\n",
       "    }\n",
       "\n",
       "    .dataframe tbody tr th {\n",
       "        vertical-align: top;\n",
       "    }\n",
       "\n",
       "    .dataframe thead th {\n",
       "        text-align: right;\n",
       "    }\n",
       "</style>\n",
       "<table border=\"1\" class=\"dataframe\">\n",
       "  <thead>\n",
       "    <tr style=\"text-align: right;\">\n",
       "      <th></th>\n",
       "      <th>Unnamed: 30</th>\n",
       "      <th>Unnamed: 28</th>\n",
       "      <th>Unnamed: 29</th>\n",
       "      <th>Unnamed: 27</th>\n",
       "      <th>Unnamed: 26</th>\n",
       "      <th>ean</th>\n",
       "      <th>manufacturer</th>\n",
       "      <th>prices.shipping</th>\n",
       "      <th>weight</th>\n",
       "      <th>upc</th>\n",
       "      <th>...</th>\n",
       "      <th>asins</th>\n",
       "      <th>prices.sourceURLs</th>\n",
       "      <th>prices.merchant</th>\n",
       "      <th>prices.isSale</th>\n",
       "      <th>prices.dateSeen</th>\n",
       "      <th>prices.currency</th>\n",
       "      <th>prices.condition</th>\n",
       "      <th>prices.availability</th>\n",
       "      <th>prices.amountMin</th>\n",
       "      <th>dateUpdated</th>\n",
       "    </tr>\n",
       "  </thead>\n",
       "  <tbody>\n",
       "    <tr>\n",
       "      <th>0</th>\n",
       "      <td>7243</td>\n",
       "      <td>7243</td>\n",
       "      <td>7237</td>\n",
       "      <td>7231</td>\n",
       "      <td>7210</td>\n",
       "      <td>5706</td>\n",
       "      <td>4014</td>\n",
       "      <td>2972</td>\n",
       "      <td>0</td>\n",
       "      <td>0</td>\n",
       "      <td>...</td>\n",
       "      <td>0</td>\n",
       "      <td>0</td>\n",
       "      <td>0</td>\n",
       "      <td>0</td>\n",
       "      <td>0</td>\n",
       "      <td>0</td>\n",
       "      <td>0</td>\n",
       "      <td>0</td>\n",
       "      <td>0</td>\n",
       "      <td>0</td>\n",
       "    </tr>\n",
       "  </tbody>\n",
       "</table>\n",
       "<p>1 rows × 31 columns</p>\n",
       "</div>"
      ],
      "text/plain": [
       "   Unnamed: 30  Unnamed: 28  Unnamed: 29  Unnamed: 27  Unnamed: 26   ean  \\\n",
       "0         7243         7243         7237         7231         7210  5706   \n",
       "\n",
       "   manufacturer  prices.shipping  weight  upc  ...  asins  prices.sourceURLs  \\\n",
       "0          4014             2972       0    0  ...      0                  0   \n",
       "\n",
       "   prices.merchant  prices.isSale  prices.dateSeen  prices.currency  \\\n",
       "0                0              0                0                0   \n",
       "\n",
       "   prices.condition  prices.availability  prices.amountMin  dateUpdated  \n",
       "0                 0                    0                 0            0  \n",
       "\n",
       "[1 rows x 31 columns]"
      ]
     },
     "execution_count": 750,
     "metadata": {},
     "output_type": "execute_result"
    }
   ],
   "source": [
    "df.isnull().sum().sort_values(ascending = False).to_frame().T"
   ]
  },
  {
   "cell_type": "markdown",
   "id": "ac62d8b6",
   "metadata": {},
   "source": [
    "      "
   ]
  },
  {
   "cell_type": "markdown",
   "id": "fe1f9767",
   "metadata": {},
   "source": [
    "It is confirmed that all the **\"Unnamed\"** columns have mostly null values. Several other columns also have \n",
    "significantly high amount of missing values. But we will deal with those columns after understanding a bit more\n",
    "about the data. \n",
    "       For now, let's delete the **\"Unnamed\"** columns."
   ]
  },
  {
   "cell_type": "code",
   "execution_count": 751,
   "id": "e4b4d248",
   "metadata": {},
   "outputs": [
    {
     "data": {
      "text/html": [
       "<div>\n",
       "<style scoped>\n",
       "    .dataframe tbody tr th:only-of-type {\n",
       "        vertical-align: middle;\n",
       "    }\n",
       "\n",
       "    .dataframe tbody tr th {\n",
       "        vertical-align: top;\n",
       "    }\n",
       "\n",
       "    .dataframe thead th {\n",
       "        text-align: right;\n",
       "    }\n",
       "</style>\n",
       "<table border=\"1\" class=\"dataframe\">\n",
       "  <thead>\n",
       "    <tr style=\"text-align: right;\">\n",
       "      <th></th>\n",
       "      <th>id</th>\n",
       "      <th>prices.amountMax</th>\n",
       "      <th>prices.amountMin</th>\n",
       "      <th>prices.availability</th>\n",
       "      <th>prices.condition</th>\n",
       "      <th>prices.currency</th>\n",
       "      <th>prices.dateSeen</th>\n",
       "      <th>prices.isSale</th>\n",
       "      <th>prices.merchant</th>\n",
       "      <th>prices.shipping</th>\n",
       "      <th>...</th>\n",
       "      <th>ean</th>\n",
       "      <th>imageURLs</th>\n",
       "      <th>keys</th>\n",
       "      <th>manufacturer</th>\n",
       "      <th>manufacturerNumber</th>\n",
       "      <th>name</th>\n",
       "      <th>primaryCategories</th>\n",
       "      <th>sourceURLs</th>\n",
       "      <th>upc</th>\n",
       "      <th>weight</th>\n",
       "    </tr>\n",
       "  </thead>\n",
       "  <tbody>\n",
       "    <tr>\n",
       "      <th>0</th>\n",
       "      <td>AVphzgbJLJeJML43fA0o</td>\n",
       "      <td>104.99</td>\n",
       "      <td>104.99</td>\n",
       "      <td>Yes</td>\n",
       "      <td>New</td>\n",
       "      <td>USD</td>\n",
       "      <td>2017-03-30T06:00:00Z,2017-03-10T22:00:00Z,2017...</td>\n",
       "      <td>False</td>\n",
       "      <td>Bestbuy.com</td>\n",
       "      <td>NaN</td>\n",
       "      <td>...</td>\n",
       "      <td>NaN</td>\n",
       "      <td>https://images-na.ssl-images-amazon.com/images...</td>\n",
       "      <td>sanusvlf410b110inchsuperslimfullmotionmountfor...</td>\n",
       "      <td>NaN</td>\n",
       "      <td>VLF410B1</td>\n",
       "      <td>Sanus VLF410B1 10-Inch Super Slim Full-Motion ...</td>\n",
       "      <td>Electronics</td>\n",
       "      <td>https://www.amazon.com/Sanus-VLF410B1-10-Inch-...</td>\n",
       "      <td>7.94E+11</td>\n",
       "      <td>32.8 pounds</td>\n",
       "    </tr>\n",
       "    <tr>\n",
       "      <th>1</th>\n",
       "      <td>AVpgMuGwLJeJML43KY_c</td>\n",
       "      <td>69.00</td>\n",
       "      <td>64.99</td>\n",
       "      <td>In Stock</td>\n",
       "      <td>New</td>\n",
       "      <td>USD</td>\n",
       "      <td>2017-12-14T06:00:00Z</td>\n",
       "      <td>True</td>\n",
       "      <td>Walmart.com</td>\n",
       "      <td>Expedited</td>\n",
       "      <td>...</td>\n",
       "      <td>NaN</td>\n",
       "      <td>https://images-na.ssl-images-amazon.com/images...</td>\n",
       "      <td>boytone2500w21chhometheatersystemblackdiamond/...</td>\n",
       "      <td>Boytone</td>\n",
       "      <td>BT-210F</td>\n",
       "      <td>Boytone - 2500W 2.1-Ch. Home Theater System - ...</td>\n",
       "      <td>Electronics</td>\n",
       "      <td>http://reviews.bestbuy.com/3545/4784804/review...</td>\n",
       "      <td>6.42E+11</td>\n",
       "      <td>14 pounds</td>\n",
       "    </tr>\n",
       "  </tbody>\n",
       "</table>\n",
       "<p>2 rows × 26 columns</p>\n",
       "</div>"
      ],
      "text/plain": [
       "                     id  prices.amountMax  prices.amountMin  \\\n",
       "0  AVphzgbJLJeJML43fA0o            104.99            104.99   \n",
       "1  AVpgMuGwLJeJML43KY_c             69.00             64.99   \n",
       "\n",
       "  prices.availability prices.condition prices.currency  \\\n",
       "0                 Yes              New             USD   \n",
       "1            In Stock              New             USD   \n",
       "\n",
       "                                     prices.dateSeen  prices.isSale  \\\n",
       "0  2017-03-30T06:00:00Z,2017-03-10T22:00:00Z,2017...          False   \n",
       "1                               2017-12-14T06:00:00Z           True   \n",
       "\n",
       "  prices.merchant prices.shipping  ...  ean  \\\n",
       "0     Bestbuy.com             NaN  ...  NaN   \n",
       "1     Walmart.com       Expedited  ...  NaN   \n",
       "\n",
       "                                           imageURLs  \\\n",
       "0  https://images-na.ssl-images-amazon.com/images...   \n",
       "1  https://images-na.ssl-images-amazon.com/images...   \n",
       "\n",
       "                                                keys manufacturer  \\\n",
       "0  sanusvlf410b110inchsuperslimfullmotionmountfor...          NaN   \n",
       "1  boytone2500w21chhometheatersystemblackdiamond/...      Boytone   \n",
       "\n",
       "  manufacturerNumber                                               name  \\\n",
       "0           VLF410B1  Sanus VLF410B1 10-Inch Super Slim Full-Motion ...   \n",
       "1            BT-210F  Boytone - 2500W 2.1-Ch. Home Theater System - ...   \n",
       "\n",
       "  primaryCategories                                         sourceURLs  \\\n",
       "0       Electronics  https://www.amazon.com/Sanus-VLF410B1-10-Inch-...   \n",
       "1       Electronics  http://reviews.bestbuy.com/3545/4784804/review...   \n",
       "\n",
       "        upc       weight  \n",
       "0  7.94E+11  32.8 pounds  \n",
       "1  6.42E+11    14 pounds  \n",
       "\n",
       "[2 rows x 26 columns]"
      ]
     },
     "execution_count": 751,
     "metadata": {},
     "output_type": "execute_result"
    }
   ],
   "source": [
    "df.drop([col for col in df.columns if \"Unnamed\" in col], axis = 1, inplace = True)\n",
    "df.head(2)"
   ]
  },
  {
   "cell_type": "markdown",
   "id": "54d9ee16",
   "metadata": {},
   "source": [
    "\n",
    "\n",
    "Here is a list of the remaining columns -\n"
   ]
  },
  {
   "cell_type": "code",
   "execution_count": 752,
   "id": "409ce394",
   "metadata": {},
   "outputs": [
    {
     "data": {
      "text/plain": [
       "Index(['id', 'prices.amountMax', 'prices.amountMin', 'prices.availability',\n",
       "       'prices.condition', 'prices.currency', 'prices.dateSeen',\n",
       "       'prices.isSale', 'prices.merchant', 'prices.shipping',\n",
       "       'prices.sourceURLs', 'asins', 'brand', 'categories', 'dateAdded',\n",
       "       'dateUpdated', 'ean', 'imageURLs', 'keys', 'manufacturer',\n",
       "       'manufacturerNumber', 'name', 'primaryCategories', 'sourceURLs', 'upc',\n",
       "       'weight'],\n",
       "      dtype='object')"
      ]
     },
     "execution_count": 752,
     "metadata": {},
     "output_type": "execute_result"
    }
   ],
   "source": [
    "df.columns"
   ]
  },
  {
   "cell_type": "markdown",
   "id": "887a55e3",
   "metadata": {},
   "source": [
    "\n",
    "\n",
    "From the list of columns, the following issues can be noticed - \n",
    "\n",
    "   * The list of columns shows that several columns are named incorrectly and have **\"prices.\"** as prefix.\n",
    "   * The columns **sourceURLs** appears twice. In this analysis we won't be using the **sourceURLs** or the **imageURLs**. So, these columns are dropped.\n",
    "\n",
    "Let's resolve these.\n"
   ]
  },
  {
   "cell_type": "code",
   "execution_count": 753,
   "id": "030f6a03",
   "metadata": {},
   "outputs": [
    {
     "data": {
      "text/plain": [
       "Index(['id', 'amountMax', 'amountMin', 'availability', 'condition', 'currency',\n",
       "       'dateSeen', 'isSale', 'merchant', 'shipping', 'asins', 'brand',\n",
       "       'categories', 'dateAdded', 'dateUpdated', 'ean', 'keys', 'manufacturer',\n",
       "       'manufacturerNumber', 'name', 'primaryCategories', 'upc', 'weight'],\n",
       "      dtype='object')"
      ]
     },
     "execution_count": 753,
     "metadata": {},
     "output_type": "execute_result"
    }
   ],
   "source": [
    "df.columns = df.columns.str.replace(\"prices.\", \"\", regex = True)\n",
    "df.drop([\"sourceURLs\", \"imageURLs\"], axis = 1, inplace = True)\n",
    "df.columns\n",
    "    "
   ]
  },
  {
   "cell_type": "markdown",
   "id": "853ed2b7",
   "metadata": {},
   "source": [
    "The column list looks good. \n",
    "Most of the column names are self-explanatory. The **\"not so simple\"** columns are - \n",
    "   * **availability -** In stock or not. \n",
    "   * **condition -** New, used etc\n",
    "   * **asins -** Amazon Standard Identification Number\n",
    "   * **ean -** European Article Number\n",
    "   * **upc -** Universal Product Code\n",
    "\n"
   ]
  },
  {
   "cell_type": "markdown",
   "id": "768435d8",
   "metadata": {},
   "source": [
    "\n",
    "Let us have a look at the column data types and non-null values:\n",
    "\n"
   ]
  },
  {
   "cell_type": "code",
   "execution_count": 754,
   "id": "aecc6e6e",
   "metadata": {},
   "outputs": [
    {
     "name": "stdout",
     "output_type": "stream",
     "text": [
      "<class 'pandas.core.frame.DataFrame'>\n",
      "RangeIndex: 7249 entries, 0 to 7248\n",
      "Data columns (total 23 columns):\n",
      " #   Column              Non-Null Count  Dtype  \n",
      "---  ------              --------------  -----  \n",
      " 0   id                  7249 non-null   object \n",
      " 1   amountMax           7249 non-null   float64\n",
      " 2   amountMin           7249 non-null   float64\n",
      " 3   availability        7249 non-null   object \n",
      " 4   condition           7249 non-null   object \n",
      " 5   currency            7249 non-null   object \n",
      " 6   dateSeen            7249 non-null   object \n",
      " 7   isSale              7249 non-null   bool   \n",
      " 8   merchant            7249 non-null   object \n",
      " 9   shipping            4277 non-null   object \n",
      " 10  asins               7249 non-null   object \n",
      " 11  brand               7249 non-null   object \n",
      " 12  categories          7249 non-null   object \n",
      " 13  dateAdded           7249 non-null   object \n",
      " 14  dateUpdated         7249 non-null   object \n",
      " 15  ean                 1543 non-null   object \n",
      " 16  keys                7249 non-null   object \n",
      " 17  manufacturer        3235 non-null   object \n",
      " 18  manufacturerNumber  7249 non-null   object \n",
      " 19  name                7249 non-null   object \n",
      " 20  primaryCategories   7249 non-null   object \n",
      " 21  upc                 7249 non-null   object \n",
      " 22  weight              7249 non-null   object \n",
      "dtypes: bool(1), float64(2), object(20)\n",
      "memory usage: 1.2+ MB\n"
     ]
    }
   ],
   "source": [
    "df.info()"
   ]
  },
  {
   "cell_type": "markdown",
   "id": "a30601a9",
   "metadata": {},
   "source": [
    "\n",
    "\n",
    "The information above tells us that -\n",
    "\n",
    "   * Most columns have no missing values.\n",
    "   * Columns **shipping**, **ean** and **manufacturer** have significant number of missing values.\n",
    "   * The datatype of **dateAdded**, **dateSeen** and **dateUpdated** columns is \"object\" instead of \"DateTime object\"\n",
    "   * The datatype of the **weight** column is \"object\" instead of \"float\".\n",
    "\n",
    "The percentage of missing values are -\n",
    "\n"
   ]
  },
  {
   "cell_type": "code",
   "execution_count": 755,
   "id": "283a0407",
   "metadata": {},
   "outputs": [
    {
     "data": {
      "text/plain": [
       "shipping        40.998758\n",
       "manufacturer    55.373155\n",
       "ean             78.714305\n",
       "dtype: float64"
      ]
     },
     "execution_count": 755,
     "metadata": {},
     "output_type": "execute_result"
    }
   ],
   "source": [
    "df[[\"shipping\", \"manufacturer\", \"ean\"]].isnull().sum()*100/(df.shape[0])"
   ]
  },
  {
   "cell_type": "markdown",
   "id": "bede5c13",
   "metadata": {},
   "source": [
    "\n",
    "Let's explore the columns. \n",
    "\n",
    "**id** and **name** columns:"
   ]
  },
  {
   "cell_type": "code",
   "execution_count": 756,
   "id": "d9e47e45",
   "metadata": {},
   "outputs": [
    {
     "name": "stdout",
     "output_type": "stream",
     "text": [
      "The number of unique product IDs is : 835\n",
      "The number of unique product names is : 828\n"
     ]
    }
   ],
   "source": [
    "print(\"The number of unique product IDs is :\" , df.id.nunique())\n",
    "print(\"The number of unique product names is :\" , df.name.nunique())\n"
   ]
  },
  {
   "cell_type": "markdown",
   "id": "890f0a8a",
   "metadata": {},
   "source": [
    "So, there are a total of 835 different product IDs and 828 different profuct names. So, some IDs must have same names.\n",
    "\n",
    "The **id** and **name** of the rows where the **name** repeats are:\n"
   ]
  },
  {
   "cell_type": "code",
   "execution_count": 757,
   "id": "206bd36a",
   "metadata": {},
   "outputs": [
    {
     "data": {
      "text/html": [
       "<div>\n",
       "<style scoped>\n",
       "    .dataframe tbody tr th:only-of-type {\n",
       "        vertical-align: middle;\n",
       "    }\n",
       "\n",
       "    .dataframe tbody tr th {\n",
       "        vertical-align: top;\n",
       "    }\n",
       "\n",
       "    .dataframe thead th {\n",
       "        text-align: right;\n",
       "    }\n",
       "</style>\n",
       "<table border=\"1\" class=\"dataframe\">\n",
       "  <thead>\n",
       "    <tr style=\"text-align: right;\">\n",
       "      <th></th>\n",
       "      <th>id</th>\n",
       "      <th>name</th>\n",
       "    </tr>\n",
       "  </thead>\n",
       "  <tbody>\n",
       "    <tr>\n",
       "      <th>20</th>\n",
       "      <td>AV0ox1E0vKc47QAVf8Pz</td>\n",
       "      <td>Yamaha - AVENTAGE 7.2-Ch. 4K Ultra HD A/V Home...</td>\n",
       "    </tr>\n",
       "    <tr>\n",
       "      <th>105</th>\n",
       "      <td>AV2ZpDBUvKc47QAVpH5Z</td>\n",
       "      <td>Pioneer - Elite 7.2-Ch. Hi-Res 4K Ultra HD HDR...</td>\n",
       "    </tr>\n",
       "    <tr>\n",
       "      <th>307</th>\n",
       "      <td>AVpfZaCp1cnluZ0-kDV9</td>\n",
       "      <td>15.4 MacBook Pro with Touch Bar (Late 2016, Sp...</td>\n",
       "    </tr>\n",
       "    <tr>\n",
       "      <th>333</th>\n",
       "      <td>AVpfiRcdilAPnD_xdfwQ</td>\n",
       "      <td>Panamax - 8-Outlet Power Conditioner/Surge Pro...</td>\n",
       "    </tr>\n",
       "    <tr>\n",
       "      <th>462</th>\n",
       "      <td>AVpgj4Cd1cnluZ0-3MKD</td>\n",
       "      <td>Panamax - 8-Outlet Power Conditioner/Surge Pro...</td>\n",
       "    </tr>\n",
       "    <tr>\n",
       "      <th>636</th>\n",
       "      <td>AVqVGTt2v8e3D1O-ldE7</td>\n",
       "      <td>SunBriteTV - Signature Series - 43 Class - LED...</td>\n",
       "    </tr>\n",
       "    <tr>\n",
       "      <th>637</th>\n",
       "      <td>AVqVGTt6U2_QcyX9Ozbx</td>\n",
       "      <td>SunBriteTV - Signature Series - 43 Class - LED...</td>\n",
       "    </tr>\n",
       "    <tr>\n",
       "      <th>644</th>\n",
       "      <td>AVqVGaCCU2_QcyX9Ozcf</td>\n",
       "      <td>15.4 MacBook Pro with Touch Bar (Late 2016, Sp...</td>\n",
       "    </tr>\n",
       "    <tr>\n",
       "      <th>658</th>\n",
       "      <td>AVqVHk9yU2_QcyX9Ozm8</td>\n",
       "      <td>House of Marley</td>\n",
       "    </tr>\n",
       "    <tr>\n",
       "      <th>681</th>\n",
       "      <td>AVqkHRDnv8e3D1O-leK1</td>\n",
       "      <td>House of Marley</td>\n",
       "    </tr>\n",
       "    <tr>\n",
       "      <th>740</th>\n",
       "      <td>AVz5wc0H-jtxr-f30F6_</td>\n",
       "      <td>Yamaha - AVENTAGE 7.2-Ch. 4K Ultra HD A/V Home...</td>\n",
       "    </tr>\n",
       "    <tr>\n",
       "      <th>741</th>\n",
       "      <td>AVz5wclz-jtxr-f30F66</td>\n",
       "      <td>Pioneer - Elite 7.2-Ch. Hi-Res 4K Ultra HD HDR...</td>\n",
       "    </tr>\n",
       "    <tr>\n",
       "      <th>742</th>\n",
       "      <td>AVz5wcrn-jtxr-f30F69</td>\n",
       "      <td>Yamaha - AVENTAGE 7.2-Ch. 4K Ultra HD A/V Home...</td>\n",
       "    </tr>\n",
       "  </tbody>\n",
       "</table>\n",
       "</div>"
      ],
      "text/plain": [
       "                       id                                               name\n",
       "20   AV0ox1E0vKc47QAVf8Pz  Yamaha - AVENTAGE 7.2-Ch. 4K Ultra HD A/V Home...\n",
       "105  AV2ZpDBUvKc47QAVpH5Z  Pioneer - Elite 7.2-Ch. Hi-Res 4K Ultra HD HDR...\n",
       "307  AVpfZaCp1cnluZ0-kDV9  15.4 MacBook Pro with Touch Bar (Late 2016, Sp...\n",
       "333  AVpfiRcdilAPnD_xdfwQ  Panamax - 8-Outlet Power Conditioner/Surge Pro...\n",
       "462  AVpgj4Cd1cnluZ0-3MKD  Panamax - 8-Outlet Power Conditioner/Surge Pro...\n",
       "636  AVqVGTt2v8e3D1O-ldE7  SunBriteTV - Signature Series - 43 Class - LED...\n",
       "637  AVqVGTt6U2_QcyX9Ozbx  SunBriteTV - Signature Series - 43 Class - LED...\n",
       "644  AVqVGaCCU2_QcyX9Ozcf  15.4 MacBook Pro with Touch Bar (Late 2016, Sp...\n",
       "658  AVqVHk9yU2_QcyX9Ozm8                                    House of Marley\n",
       "681  AVqkHRDnv8e3D1O-leK1                                    House of Marley\n",
       "740  AVz5wc0H-jtxr-f30F6_  Yamaha - AVENTAGE 7.2-Ch. 4K Ultra HD A/V Home...\n",
       "741  AVz5wclz-jtxr-f30F66  Pioneer - Elite 7.2-Ch. Hi-Res 4K Ultra HD HDR...\n",
       "742  AVz5wcrn-jtxr-f30F69  Yamaha - AVENTAGE 7.2-Ch. 4K Ultra HD A/V Home..."
      ]
     },
     "execution_count": 757,
     "metadata": {},
     "output_type": "execute_result"
    }
   ],
   "source": [
    "temp = df.groupby([\"id\", \"name\"])[[\"id\", \"name\"]].count()\n",
    "temp.columns = [\"ID count\", \"name count\"]\n",
    "temp.reset_index(inplace = True)\n",
    "temp1 = temp[temp.duplicated(subset = [\"name\"], keep = False)]\n",
    "temp1.drop([\"ID count\", \"name count\"], axis = 1)"
   ]
  },
  {
   "cell_type": "markdown",
   "id": "f898d49e",
   "metadata": {},
   "source": [
    "Let's explore the **amountMax** and **amountMin** cloumns. But before that we need to make sure that all entries are in same currency. So, first the **currency** column must be checked.\n"
   ]
  },
  {
   "cell_type": "code",
   "execution_count": 758,
   "id": "a7cf1105",
   "metadata": {},
   "outputs": [
    {
     "data": {
      "text/plain": [
       "USD    7248\n",
       "CAD       1\n",
       "Name: currency, dtype: int64"
      ]
     },
     "execution_count": 758,
     "metadata": {},
     "output_type": "execute_result"
    }
   ],
   "source": [
    "df.currency.value_counts()"
   ]
  },
  {
   "cell_type": "markdown",
   "id": "5567bd29",
   "metadata": {},
   "source": [
    "So, only 1 entry is in **CAD**. Let's convert the **amountMax** and **amountMin** to **USD** wher it is in **CAD**. The exchange rate used is: \n",
    "\n",
    "   1 **CAD** = 0.77 **USD**.\n",
    "After the conversion, the **currency** column will have only one value **USD** and hence it is dropped."
   ]
  },
  {
   "cell_type": "code",
   "execution_count": 759,
   "id": "13fc2da9",
   "metadata": {},
   "outputs": [],
   "source": [
    "#converting CAD to USD\n",
    "CAD_index = df.loc[df.currency == \"CAD\"].index\n",
    "for i in CAD_index:\n",
    "    df.amountMin = df.amountMin * 0.77\n",
    "    df.amountMax = df.amountMax * 0.77\n",
    "df.drop([\"currency\"], axis = 1, inplace = True)"
   ]
  },
  {
   "cell_type": "markdown",
   "id": "c0116780",
   "metadata": {},
   "source": [
    "The summary statistics of the **amountMax** and **amountMin** columns is:"
   ]
  },
  {
   "cell_type": "code",
   "execution_count": 760,
   "id": "c75e065e",
   "metadata": {},
   "outputs": [
    {
     "data": {
      "text/html": [
       "<div>\n",
       "<style scoped>\n",
       "    .dataframe tbody tr th:only-of-type {\n",
       "        vertical-align: middle;\n",
       "    }\n",
       "\n",
       "    .dataframe tbody tr th {\n",
       "        vertical-align: top;\n",
       "    }\n",
       "\n",
       "    .dataframe thead th {\n",
       "        text-align: right;\n",
       "    }\n",
       "</style>\n",
       "<table border=\"1\" class=\"dataframe\">\n",
       "  <thead>\n",
       "    <tr style=\"text-align: right;\">\n",
       "      <th></th>\n",
       "      <th>amountMax</th>\n",
       "      <th>amountMin</th>\n",
       "    </tr>\n",
       "  </thead>\n",
       "  <tbody>\n",
       "    <tr>\n",
       "      <th>count</th>\n",
       "      <td>7249.000000</td>\n",
       "      <td>7249.000000</td>\n",
       "    </tr>\n",
       "    <tr>\n",
       "      <th>mean</th>\n",
       "      <td>381.558569</td>\n",
       "      <td>357.251514</td>\n",
       "    </tr>\n",
       "    <tr>\n",
       "      <th>std</th>\n",
       "      <td>587.971528</td>\n",
       "      <td>523.988470</td>\n",
       "    </tr>\n",
       "    <tr>\n",
       "      <th>min</th>\n",
       "      <td>0.770000</td>\n",
       "      <td>0.770000</td>\n",
       "    </tr>\n",
       "    <tr>\n",
       "      <th>25%</th>\n",
       "      <td>61.592300</td>\n",
       "      <td>61.561500</td>\n",
       "    </tr>\n",
       "    <tr>\n",
       "      <th>50%</th>\n",
       "      <td>153.222300</td>\n",
       "      <td>146.292300</td>\n",
       "    </tr>\n",
       "    <tr>\n",
       "      <th>75%</th>\n",
       "      <td>381.142300</td>\n",
       "      <td>369.592300</td>\n",
       "    </tr>\n",
       "    <tr>\n",
       "      <th>max</th>\n",
       "      <td>5389.992300</td>\n",
       "      <td>4619.992300</td>\n",
       "    </tr>\n",
       "  </tbody>\n",
       "</table>\n",
       "</div>"
      ],
      "text/plain": [
       "         amountMax    amountMin\n",
       "count  7249.000000  7249.000000\n",
       "mean    381.558569   357.251514\n",
       "std     587.971528   523.988470\n",
       "min       0.770000     0.770000\n",
       "25%      61.592300    61.561500\n",
       "50%     153.222300   146.292300\n",
       "75%     381.142300   369.592300\n",
       "max    5389.992300  4619.992300"
      ]
     },
     "execution_count": 760,
     "metadata": {},
     "output_type": "execute_result"
    }
   ],
   "source": [
    "temp = df[[\"amountMax\", \"amountMin\"]]\n",
    "temp.describe()"
   ]
  },
  {
   "cell_type": "code",
   "execution_count": 761,
   "id": "789e3857",
   "metadata": {},
   "outputs": [
    {
     "data": {
      "text/plain": [
       "amountMax    153.2223\n",
       "amountMin    146.2923\n",
       "dtype: float64"
      ]
     },
     "execution_count": 761,
     "metadata": {},
     "output_type": "execute_result"
    }
   ],
   "source": [
    "temp.median()"
   ]
  },
  {
   "cell_type": "code",
   "execution_count": 762,
   "id": "8220acc8",
   "metadata": {},
   "outputs": [
    {
     "data": {
      "image/png": "[encoded data removed]",
      "text/plain": [
       "<Figure size 432x288 with 1 Axes>"
      ]
     },
     "metadata": {
      "needs_background": "light"
     },
     "output_type": "display_data"
    }
   ],
   "source": [
    "temp.boxplot()\n",
    "plt.ylabel(\"Price [USD]\")\n",
    "plt.title(\"Distribution of 'amountMax' and 'amountMin' columns\");"
   ]
  },
  {
   "cell_type": "markdown",
   "id": "0338fbaf",
   "metadata": {},
   "source": [
    "From the plot, it is evident that the data has many outliers which explain the huge standard deviations and the huge gap between the means and the medians.\n",
    "\n",
    "Checking if in any row has equal values in these two columns:"
   ]
  },
  {
   "cell_type": "code",
   "execution_count": 763,
   "id": "60f460f8",
   "metadata": {},
   "outputs": [
    {
     "name": "stdout",
     "output_type": "stream",
     "text": [
      "The percentage of rows having equal amountMin and amountMax values is:  90.8\n"
     ]
    }
   ],
   "source": [
    "x = df[df[\"amountMax\"] == df[\"amountMin\"]].shape[0]*100/df.shape[0]\n",
    "print(\"The percentage of rows having equal amountMin and amountMax values is: \", round(x, 1))"
   ]
  },
  {
   "cell_type": "markdown",
   "id": "7ac1cb80",
   "metadata": {},
   "source": [
    "It's clear that approximately 90% of the rows have same values in those two columns."
   ]
  },
  {
   "cell_type": "markdown",
   "id": "44f9aa39",
   "metadata": {},
   "source": [
    "Let's move on to the availability column."
   ]
  },
  {
   "cell_type": "code",
   "execution_count": 764,
   "id": "1ae773df",
   "metadata": {},
   "outputs": [
    {
     "data": {
      "text/html": [
       "<div>\n",
       "<style scoped>\n",
       "    .dataframe tbody tr th:only-of-type {\n",
       "        vertical-align: middle;\n",
       "    }\n",
       "\n",
       "    .dataframe tbody tr th {\n",
       "        vertical-align: top;\n",
       "    }\n",
       "\n",
       "    .dataframe thead th {\n",
       "        text-align: right;\n",
       "    }\n",
       "</style>\n",
       "<table border=\"1\" class=\"dataframe\">\n",
       "  <thead>\n",
       "    <tr style=\"text-align: right;\">\n",
       "      <th></th>\n",
       "      <th>count</th>\n",
       "    </tr>\n",
       "  </thead>\n",
       "  <tbody>\n",
       "    <tr>\n",
       "      <th>In Stock</th>\n",
       "      <td>3172</td>\n",
       "    </tr>\n",
       "    <tr>\n",
       "      <th>Yes</th>\n",
       "      <td>2136</td>\n",
       "    </tr>\n",
       "    <tr>\n",
       "      <th>yes</th>\n",
       "      <td>893</td>\n",
       "    </tr>\n",
       "    <tr>\n",
       "      <th>TRUE</th>\n",
       "      <td>663</td>\n",
       "    </tr>\n",
       "    <tr>\n",
       "      <th>Out Of Stock</th>\n",
       "      <td>115</td>\n",
       "    </tr>\n",
       "    <tr>\n",
       "      <th>Special Order</th>\n",
       "      <td>109</td>\n",
       "    </tr>\n",
       "    <tr>\n",
       "      <th>More on the Way</th>\n",
       "      <td>91</td>\n",
       "    </tr>\n",
       "    <tr>\n",
       "      <th>undefined</th>\n",
       "      <td>40</td>\n",
       "    </tr>\n",
       "    <tr>\n",
       "      <th>sold</th>\n",
       "      <td>22</td>\n",
       "    </tr>\n",
       "    <tr>\n",
       "      <th>No</th>\n",
       "      <td>4</td>\n",
       "    </tr>\n",
       "    <tr>\n",
       "      <th>FALSE</th>\n",
       "      <td>1</td>\n",
       "    </tr>\n",
       "    <tr>\n",
       "      <th>Retired</th>\n",
       "      <td>1</td>\n",
       "    </tr>\n",
       "    <tr>\n",
       "      <th>32 available</th>\n",
       "      <td>1</td>\n",
       "    </tr>\n",
       "    <tr>\n",
       "      <th>7 available</th>\n",
       "      <td>1</td>\n",
       "    </tr>\n",
       "  </tbody>\n",
       "</table>\n",
       "</div>"
      ],
      "text/plain": [
       "                 count\n",
       "In Stock          3172\n",
       "Yes               2136\n",
       "yes                893\n",
       "TRUE               663\n",
       "Out Of Stock       115\n",
       "Special Order      109\n",
       "More on the Way     91\n",
       "undefined           40\n",
       "sold                22\n",
       "No                   4\n",
       "FALSE                1\n",
       "Retired              1\n",
       "32 available         1\n",
       "7 available          1"
      ]
     },
     "execution_count": 764,
     "metadata": {},
     "output_type": "execute_result"
    }
   ],
   "source": [
    "temp = df.availability.value_counts().to_frame()\n",
    "temp.columns = [\"count\"]\n",
    "temp"
   ]
  },
  {
   "cell_type": "markdown",
   "id": "7930751f",
   "metadata": {},
   "source": [
    "As we can guess, the values \"Yes\", \"yes\" and \"TRUE\" are same as \"In Stock\" and the values \"sold\", \"no\" and \"FALSE\" are same as \"Out Of Stock\". Let's make the changes:"
   ]
  },
  {
   "cell_type": "code",
   "execution_count": 765,
   "id": "d255b40c",
   "metadata": {},
   "outputs": [],
   "source": [
    "#Replacing values in columns with appropriate values\n",
    "df[\"availability\"].replace({\"yes\" : \"In Stock\", \n",
    "                            \"Yes\" : \"In Stock\", \n",
    "                            \"TRUE\" : \"In Stock\", \n",
    "                            \"sold\" : \"Out Of Stock\",\n",
    "                            \"No\" : \"Out Of Stock\",\n",
    "                            \"FALSE\" : \"Out Of Stock\",\n",
    "                            }, inplace = True)"
   ]
  },
  {
   "cell_type": "code",
   "execution_count": 766,
   "id": "1dab5081",
   "metadata": {},
   "outputs": [
    {
     "data": {
      "text/plain": [
       "In Stock           6864\n",
       "Out Of Stock        142\n",
       "Special Order       109\n",
       "More on the Way      91\n",
       "undefined            40\n",
       "Retired               1\n",
       "32 available          1\n",
       "7 available           1\n",
       "Name: availability, dtype: int64"
      ]
     },
     "execution_count": 766,
     "metadata": {},
     "output_type": "execute_result"
    }
   ],
   "source": [
    "df.availability.value_counts()"
   ]
  },
  {
   "cell_type": "markdown",
   "id": "458dd659",
   "metadata": {},
   "source": [
    "Looks better.\n",
    "\n",
    "   Some products are out of stock. The **\"id\"**, **\"name\"**, **\"asins\"**, **brand** and **\"manufacturer\"** of these products are:\n",
    "    "
   ]
  },
  {
   "cell_type": "code",
   "execution_count": 767,
   "id": "e7b37c20",
   "metadata": {},
   "outputs": [
    {
     "data": {
      "text/html": [
       "<div>\n",
       "<style scoped>\n",
       "    .dataframe tbody tr th:only-of-type {\n",
       "        vertical-align: middle;\n",
       "    }\n",
       "\n",
       "    .dataframe tbody tr th {\n",
       "        vertical-align: top;\n",
       "    }\n",
       "\n",
       "    .dataframe thead th {\n",
       "        text-align: right;\n",
       "    }\n",
       "</style>\n",
       "<table border=\"1\" class=\"dataframe\">\n",
       "  <thead>\n",
       "    <tr style=\"text-align: right;\">\n",
       "      <th></th>\n",
       "      <th>id</th>\n",
       "      <th>name</th>\n",
       "      <th>manufacturer</th>\n",
       "      <th>asins</th>\n",
       "      <th>brand</th>\n",
       "    </tr>\n",
       "  </thead>\n",
       "  <tbody>\n",
       "    <tr>\n",
       "      <th>120</th>\n",
       "      <td>AVpfLsb-ilAPnD_xWtDE</td>\n",
       "      <td>Kenwood KFC-1653MRW 6.5 2-way Marine Speakers ...</td>\n",
       "      <td>Kenwood</td>\n",
       "      <td>B00U7RW0B8</td>\n",
       "      <td>Kenwood</td>\n",
       "    </tr>\n",
       "    <tr>\n",
       "      <th>188</th>\n",
       "      <td>AVpgF1BOilAPnD_xnTsK</td>\n",
       "      <td>iHome Rechargeable Splash Proof Stereo Bluetoo...</td>\n",
       "      <td>iHome</td>\n",
       "      <td>B00WBS31OQ</td>\n",
       "      <td>Sdi Technologies, Inc.</td>\n",
       "    </tr>\n",
       "    <tr>\n",
       "      <th>203</th>\n",
       "      <td>AV1YFmcQglJLPUi8IGd1</td>\n",
       "      <td>Corsair CMSA8GX3M2A1066C7 Apple 8 GB Dual Chan...</td>\n",
       "      <td>NaN</td>\n",
       "      <td>B00505EZYW</td>\n",
       "      <td>Corsair</td>\n",
       "    </tr>\n",
       "    <tr>\n",
       "      <th>282</th>\n",
       "      <td>AVpiLlubilAPnD_xBoTa</td>\n",
       "      <td>House of Marley Smile Jamaica In-Ear Earbuds</td>\n",
       "      <td>House Of Marley</td>\n",
       "      <td>B00G3P9UMU</td>\n",
       "      <td>House of Marley</td>\n",
       "    </tr>\n",
       "    <tr>\n",
       "      <th>393</th>\n",
       "      <td>AVpfC6mu1cnluZ0-cszY</td>\n",
       "      <td>Russound - Acclaim 5 Series 5-1/4 2-Way Indoor...</td>\n",
       "      <td>Russound</td>\n",
       "      <td>B003XM3MCA,B007WM3EIE,B007I57JMM</td>\n",
       "      <td>Russound</td>\n",
       "    </tr>\n",
       "  </tbody>\n",
       "</table>\n",
       "</div>"
      ],
      "text/plain": [
       "                       id                                               name  \\\n",
       "120  AVpfLsb-ilAPnD_xWtDE  Kenwood KFC-1653MRW 6.5 2-way Marine Speakers ...   \n",
       "188  AVpgF1BOilAPnD_xnTsK  iHome Rechargeable Splash Proof Stereo Bluetoo...   \n",
       "203  AV1YFmcQglJLPUi8IGd1  Corsair CMSA8GX3M2A1066C7 Apple 8 GB Dual Chan...   \n",
       "282  AVpiLlubilAPnD_xBoTa       House of Marley Smile Jamaica In-Ear Earbuds   \n",
       "393  AVpfC6mu1cnluZ0-cszY  Russound - Acclaim 5 Series 5-1/4 2-Way Indoor...   \n",
       "\n",
       "        manufacturer                             asins                   brand  \n",
       "120          Kenwood                        B00U7RW0B8                 Kenwood  \n",
       "188            iHome                        B00WBS31OQ  Sdi Technologies, Inc.  \n",
       "203              NaN                        B00505EZYW                 Corsair  \n",
       "282  House Of Marley                        B00G3P9UMU         House of Marley  \n",
       "393         Russound  B003XM3MCA,B007WM3EIE,B007I57JMM                Russound  "
      ]
     },
     "execution_count": 767,
     "metadata": {},
     "output_type": "execute_result"
    }
   ],
   "source": [
    "Out_Of_Stock = df[df.availability ==\"Out Of Stock\"][[\"id\", \"name\", \"manufacturer\", \"asins\", \"brand\"]]\n",
    "Out_Of_Stock.head()"
   ]
  },
  {
   "cell_type": "markdown",
   "id": "0d7117ee",
   "metadata": {},
   "source": [
    "It is assumed that the above mentioned five attributes are sufficient to uniquely identify the product and can be used for restocking purposes.\n",
    "\n",
    "Let's now checkout the **condition** column."
   ]
  },
  {
   "cell_type": "code",
   "execution_count": 768,
   "id": "78a0eadc",
   "metadata": {},
   "outputs": [
    {
     "data": {
      "text/plain": [
       "New                                                                                                                                                                                                                                                                                                                                                                                                                                                                                                                                                                                                                                                                                                                                                                                                                                                                                                                                                                                                                                                                                                                                                                                                                                                                                                                                      6226\n",
       "new                                                                                                                                                                                                                                                                                                                                                                                                                                                                                                                                                                                                                                                                                                                                                                                                                                                                                                                                                                                                                                                                                                                                                                                                                                                                                                                                       699\n",
       "Used                                                                                                                                                                                                                                                                                                                                                                                                                                                                                                                                                                                                                                                                                                                                                                                                                                                                                                                                                                                                                                                                                                                                                                                                                                                                                                                                      143\n",
       "New other (see details)                                                                                                                                                                                                                                                                                                                                                                                                                                                                                                                                                                                                                                                                                                                                                                                                                                                                                                                                                                                                                                                                                                                                                                                                                                                                                                                    92\n",
       "Manufacturer refurbished                                                                                                                                                                                                                                                                                                                                                                                                                                                                                                                                                                                                                                                                                                                                                                                                                                                                                                                                                                                                                                                                                                                                                                                                                                                                                                                   55\n",
       "Seller refurbished                                                                                                                                                                                                                                                                                                                                                                                                                                                                                                                                                                                                                                                                                                                                                                                                                                                                                                                                                                                                                                                                                                                                                                                                                                                                                                                         15\n",
       "Refurbished                                                                                                                                                                                                                                                                                                                                                                                                                                                                                                                                                                                                                                                                                                                                                                                                                                                                                                                                                                                                                                                                                                                                                                                                                                                                                                                                11\n",
       "pre-owned                                                                                                                                                                                                                                                                                                                                                                                                                                                                                                                                                                                                                                                                                                                                                                                                                                                                                                                                                                                                                                                                                                                                                                                                                                                                                                                                   3\n",
       "refurbished                                                                                                                                                                                                                                                                                                                                                                                                                                                                                                                                                                                                                                                                                                                                                                                                                                                                                                                                                                                                                                                                                                                                                                                                                                                                                                                                 2\n",
       "New Kicker BT2 41IK5BT2V2 Wireless Bluetooth USB Audio System Black + Remote, Power Supply (volts, ampere): 24, 2.9, Square Reflex Subwoofer (in., mm): 6 x 6\", Stereo Amp Power with DSP (watts): 50, App for customizing - KickStart, Remote Control Included, Height x Width x Depth (in, mm): 8.87\" x 19\" x 9.14\", Frequency Response (Hz): 24-20k, +-3dB, Woofer (in., cm): 5\", 1 Year Manufacturer Warranty, Item Weight: 13.85 lbs., USB Port, Compatible with: Bluetooth-enabled devices, Aux-in, Speaker Design: 2-Way Full-Range, Bluetooth wireless streaming, Condition: Brand New!, Tweeter (in., cm): 3/4\"                                                                                                                                                                                                                                                                                                                                                                                                                                                                                                                                                                                                                                                                                                                    2\n",
       "5/16\" Ring Terminal, 3 ft. 8 GA Black Ground Cable, 6 ft. Split Loom Tubing, Depth: 6.5\" (165mm) (top) 11.2\" (285mm) (bottom), Item Weight: 18.5 lbs., Frequency Response 25Hz - 500Hz, Line Output, Max Power: 1100 Watt x 1 Channel @ 2 Ohm, 30 ft. Speaker Wire, Boss Illuminated Logo, Height: 12.8\" (325mm), (3) Rubber Grommets, Item Weight: 2 lbs., Size 10\", 20 ft. 8 GA Red Power Cable, Ported enclosure for greater output and deeper bass, 2 Ohm Stable, Class A/B, Voice Coil Size 2\", Black rubber surround, Nominal Impedance 4 ohm, Rugged fiberboard construction with thick carpet covering, Warranty: 1 Year Manufacturer Warranty, MOSFET Power, Weight: 6 lbs, Width: 17.7\" (450mm), Condition: Brand New!, Low Pass Crossover, List item, RMS Power: 250 Watt x 1 Channel @ 4 Ohm, Remote Bass Control Included!, 1/4\" Ring Terminal, 16 ft. 18 GA Blue Turn-On Wire, Peak Power: 500 Watts, Competition High Quality Fuse Holder, Condition: BRAND NEW!, Product Condition: Brand New, RMS Power: 175 Watts, Aluminum woofer cone, THD: 0.01%, 1 Year Manufacturer Warranty, Dimensions: 10-7/16\" (W) x 2-1/4\" (H) x 9-1/8\" (L), #10 Ring Terminal, 20 ft. High Performance Black RCA, SPL (db @ 1w/1m) 88dB, New Dual SBX101 10\" 500 Watts Car Audio Subwoofer Sub + Ported Sub Enclosure, (20) 4\" Wire Ties       1\n",
       "Name: condition, dtype: int64"
      ]
     },
     "execution_count": 768,
     "metadata": {},
     "output_type": "execute_result"
    }
   ],
   "source": [
    "df.condition.value_counts()"
   ]
  },
  {
   "cell_type": "markdown",
   "id": "28161ab8",
   "metadata": {},
   "source": [
    "Most products are new. The **\"new\"** and **\"New other (see details)\"** values can be replaced with **\"New\"**. Also all types of **refurbished** items can be given the same condition which is **\"Refurbished\"** and **\"pre-owned\"** is replaced with **\"Used\"**. The rows having very lengthy **condition** values are dropped."
   ]
  },
  {
   "cell_type": "code",
   "execution_count": 769,
   "id": "e9e0aba2",
   "metadata": {},
   "outputs": [],
   "source": [
    "df[\"condition\"].replace({\"new\": \"New\", \"New other (see details)\" : \"New\", \"pre-owned\" : \"Used\", \n",
    "                         \"refurbished\" : \"Refurbished\", \"Seller refurbished\" : \"Refurbished\",\n",
    "                        \"Manufacturer refurbished\" : \"Refurbished\"}, inplace = True)\n",
    "\n",
    "#dropping rowns having lengthy \"condition\" values\n",
    "for i in range(0, df.shape[0]):\n",
    "    if len(df[\"condition\"][i]) > 15:\n",
    "        df.drop([i], inplace = True)\n",
    "    else:\n",
    "        pass\n"
   ]
  },
  {
   "cell_type": "code",
   "execution_count": 770,
   "id": "d8c1eda2",
   "metadata": {},
   "outputs": [
    {
     "data": {
      "text/plain": [
       "New            7017\n",
       "Used            146\n",
       "Refurbished      83\n",
       "Name: condition, dtype: int64"
      ]
     },
     "execution_count": 770,
     "metadata": {},
     "output_type": "execute_result"
    }
   ],
   "source": [
    "df.condition.value_counts()"
   ]
  },
  {
   "cell_type": "code",
   "execution_count": 771,
   "id": "f0b050b5",
   "metadata": {},
   "outputs": [
    {
     "data": {
      "image/png": "[encoded data removed]",
      "text/plain": [
       "<Figure size 432x288 with 1 Axes>"
      ]
     },
     "metadata": {
      "needs_background": "light"
     },
     "output_type": "display_data"
    }
   ],
   "source": [
    "df.condition.value_counts(normalize = True).to_frame().plot(kind = \"barh\")\n",
    "plt.xlabel(\"Proportion\")\n",
    "plt.title(\"Distribution of product condition\");"
   ]
  },
  {
   "cell_type": "code",
   "execution_count": 772,
   "id": "1b62aa09",
   "metadata": {},
   "outputs": [
    {
     "data": {
      "text/plain": [
       "Index(['id', 'amountMax', 'amountMin', 'availability', 'condition', 'dateSeen',\n",
       "       'isSale', 'merchant', 'shipping', 'asins', 'brand', 'categories',\n",
       "       'dateAdded', 'dateUpdated', 'ean', 'keys', 'manufacturer',\n",
       "       'manufacturerNumber', 'name', 'primaryCategories', 'upc', 'weight'],\n",
       "      dtype='object')"
      ]
     },
     "execution_count": 772,
     "metadata": {},
     "output_type": "execute_result"
    }
   ],
   "source": [
    "df.columns"
   ]
  },
  {
   "cell_type": "markdown",
   "id": "a4cbbb31",
   "metadata": {},
   "source": [
    "Moving onto the date columns."
   ]
  },
  {
   "cell_type": "code",
   "execution_count": 773,
   "id": "41c5f45e",
   "metadata": {},
   "outputs": [
    {
     "data": {
      "text/html": [
       "<div>\n",
       "<style scoped>\n",
       "    .dataframe tbody tr th:only-of-type {\n",
       "        vertical-align: middle;\n",
       "    }\n",
       "\n",
       "    .dataframe tbody tr th {\n",
       "        vertical-align: top;\n",
       "    }\n",
       "\n",
       "    .dataframe thead th {\n",
       "        text-align: right;\n",
       "    }\n",
       "</style>\n",
       "<table border=\"1\" class=\"dataframe\">\n",
       "  <thead>\n",
       "    <tr style=\"text-align: right;\">\n",
       "      <th></th>\n",
       "      <th>dateSeen</th>\n",
       "      <th>dateAdded</th>\n",
       "      <th>dateUpdated</th>\n",
       "    </tr>\n",
       "  </thead>\n",
       "  <tbody>\n",
       "    <tr>\n",
       "      <th>0</th>\n",
       "      <td>2017-03-30T06:00:00Z,2017-03-10T22:00:00Z,2017...</td>\n",
       "      <td>2015-04-13T12:00:51Z</td>\n",
       "      <td>2018-05-12T18:59:48Z</td>\n",
       "    </tr>\n",
       "    <tr>\n",
       "      <th>1</th>\n",
       "      <td>2017-12-14T06:00:00Z</td>\n",
       "      <td>2015-05-18T14:14:56Z</td>\n",
       "      <td>2018-06-13T19:39:02Z</td>\n",
       "    </tr>\n",
       "    <tr>\n",
       "      <th>2</th>\n",
       "      <td>2017-09-08T05:00:00Z</td>\n",
       "      <td>2015-05-18T14:14:56Z</td>\n",
       "      <td>2018-06-13T19:39:02Z</td>\n",
       "    </tr>\n",
       "    <tr>\n",
       "      <th>3</th>\n",
       "      <td>2017-10-10T05:00:00Z</td>\n",
       "      <td>2015-05-18T14:14:56Z</td>\n",
       "      <td>2018-06-13T19:39:02Z</td>\n",
       "    </tr>\n",
       "    <tr>\n",
       "      <th>4</th>\n",
       "      <td>2017-08-28T07:00:00Z</td>\n",
       "      <td>2015-05-18T14:14:56Z</td>\n",
       "      <td>2018-06-13T19:39:02Z</td>\n",
       "    </tr>\n",
       "  </tbody>\n",
       "</table>\n",
       "</div>"
      ],
      "text/plain": [
       "                                            dateSeen             dateAdded  \\\n",
       "0  2017-03-30T06:00:00Z,2017-03-10T22:00:00Z,2017...  2015-04-13T12:00:51Z   \n",
       "1                               2017-12-14T06:00:00Z  2015-05-18T14:14:56Z   \n",
       "2                               2017-09-08T05:00:00Z  2015-05-18T14:14:56Z   \n",
       "3                               2017-10-10T05:00:00Z  2015-05-18T14:14:56Z   \n",
       "4                               2017-08-28T07:00:00Z  2015-05-18T14:14:56Z   \n",
       "\n",
       "            dateUpdated  \n",
       "0  2018-05-12T18:59:48Z  \n",
       "1  2018-06-13T19:39:02Z  \n",
       "2  2018-06-13T19:39:02Z  \n",
       "3  2018-06-13T19:39:02Z  \n",
       "4  2018-06-13T19:39:02Z  "
      ]
     },
     "execution_count": 773,
     "metadata": {},
     "output_type": "execute_result"
    }
   ],
   "source": [
    "temp = df[[\"dateSeen\", \"dateAdded\", \"dateUpdated\"]]\n",
    "temp.head()"
   ]
  },
  {
   "cell_type": "markdown",
   "id": "43f97c44",
   "metadata": {},
   "source": [
    "The entry in the **dateSeen** column of the first row is incorrectly repeated. We need to check if more entries have this problem.\n",
    "\n",
    "The data type is object and it is to be converted to **DateTime** object.\n",
    "\n",
    "The letter \"Z\" at the end in each entry represents that the time corresponds to the **Zero Timezone**.\n",
    "\n",
    "We will extract the following information from each of these columns and create new columns for each:\n",
    "\n",
    "   **Time, Day of Week, Week of Month, Month, Year.**\n",
    "   \n",
    "   So, there will be 15 additional columns.\n",
    "  \n"
   ]
  },
  {
   "cell_type": "code",
   "execution_count": 774,
   "id": "03585b8c",
   "metadata": {},
   "outputs": [
    {
     "name": "stdout",
     "output_type": "stream",
     "text": [
      "Number of wrong entries in the column dateSeen is 3575 .\n",
      "No wrong entry in the column dateAdded .\n",
      "No wrong entry in the column dateUpdated .\n"
     ]
    }
   ],
   "source": [
    "#The length of each timestamp is 20. Checking for rows having longer entries.\n",
    "index_ = []\n",
    "for col in temp.columns:\n",
    "    indices = []\n",
    "    indices = df.loc[df[col].str.len() > 20].index\n",
    "    if len(indices) == 0:\n",
    "        print(\"No wrong entry in the column\", col,\".\")\n",
    "    else:\n",
    "        for row in indices:\n",
    "            index_.append(row)\n",
    "        print(\"Number of wrong entries in the column\", col, \"is\", len(indices),\".\")\n"
   ]
  },
  {
   "cell_type": "markdown",
   "id": "d7cc8d37",
   "metadata": {},
   "source": [
    "Looks like the problem is widespread but it is still limited to only the **dateSeen** column. We will replace each such entry with the first 20 characters of the entry. But before we that, we will look at the first 10 entries in the **dateSeen** column to make sure that the first 20 characters are sufficient."
   ]
  },
  {
   "cell_type": "code",
   "execution_count": 775,
   "id": "695514b7",
   "metadata": {},
   "outputs": [
    {
     "data": {
      "text/plain": [
       "0     2017-03-30T06:00:00Z,2017-03-10T22:00:00Z,2017...\n",
       "12    2017-08-01T03:00:00Z,2017-07-26T15:00:00Z,2017...\n",
       "17    2017-10-10T12:00:00Z,2017-09-12T05:00:00Z,2017...\n",
       "18    2017-08-01T00:00:00Z,2017-08-01T17:00:00Z,2017...\n",
       "19            2017-06-01T17:00:00Z,2017-06-01T19:00:00Z\n",
       "22    2017-10-10T20:00:00Z,2017-09-18T13:00:00Z,2017...\n",
       "25    2017-10-10T19:00:00Z,2017-09-06T17:00:00Z,2017...\n",
       "26    2018-07-25T22:00:00Z,2017-12-06T21:00:00Z,2017...\n",
       "28            2017-03-10T22:00:00Z,2017-03-04T10:00:00Z\n",
       "31    2017-10-10T22:00:00Z,2017-09-12T03:00:00Z,2017...\n",
       "Name: dateSeen, dtype: object"
      ]
     },
     "execution_count": 775,
     "metadata": {},
     "output_type": "execute_result"
    }
   ],
   "source": [
    "df.dateSeen[index_[0:10]]"
   ]
  },
  {
   "cell_type": "markdown",
   "id": "fbb87fba",
   "metadata": {},
   "source": [
    "So, the first 20 characters can be used.\n"
   ]
  },
  {
   "cell_type": "code",
   "execution_count": 776,
   "id": "cb761834",
   "metadata": {},
   "outputs": [
    {
     "name": "stderr",
     "output_type": "stream",
     "text": [
      "/tmp/ipykernel_32865/3651050411.py:3: SettingWithCopyWarning: \n",
      "A value is trying to be set on a copy of a slice from a DataFrame\n",
      "\n",
      "See the caveats in the documentation: https://pandas.pydata.org/pandas-docs/stable/user_guide/indexing.html#returning-a-view-versus-a-copy\n",
      "  df.dateSeen[row] = df.dateSeen[row][:20]\n"
     ]
    },
    {
     "data": {
      "text/plain": [
       "0     2017-03-30T06:00:00Z\n",
       "12    2017-08-01T03:00:00Z\n",
       "17    2017-10-10T12:00:00Z\n",
       "18    2017-08-01T00:00:00Z\n",
       "19    2017-06-01T17:00:00Z\n",
       "22    2017-10-10T20:00:00Z\n",
       "25    2017-10-10T19:00:00Z\n",
       "26    2018-07-25T22:00:00Z\n",
       "28    2017-03-10T22:00:00Z\n",
       "31    2017-10-10T22:00:00Z\n",
       "Name: dateSeen, dtype: object"
      ]
     },
     "execution_count": 776,
     "metadata": {},
     "output_type": "execute_result"
    }
   ],
   "source": [
    "#Adjusting the incorrect entries in dateSeen column\n",
    "for row in index_:\n",
    "    df.dateSeen[row] = df.dateSeen[row][:20]\n",
    "df.dateSeen[index_].head(10)"
   ]
  },
  {
   "cell_type": "markdown",
   "id": "8937d1b6",
   "metadata": {},
   "source": [
    "The datatype in the **date** columns is still **object**. Let's change those to **DateTime**.\n"
   ]
  },
  {
   "cell_type": "code",
   "execution_count": 777,
   "id": "4e182873",
   "metadata": {},
   "outputs": [
    {
     "name": "stdout",
     "output_type": "stream",
     "text": [
      "<class 'pandas.core.frame.DataFrame'>\n",
      "Int64Index: 7246 entries, 0 to 7248\n",
      "Data columns (total 3 columns):\n",
      " #   Column       Non-Null Count  Dtype              \n",
      "---  ------       --------------  -----              \n",
      " 0   dateSeen     7246 non-null   datetime64[ns, UTC]\n",
      " 1   dateAdded    7246 non-null   datetime64[ns, UTC]\n",
      " 2   dateUpdated  7246 non-null   datetime64[ns, UTC]\n",
      "dtypes: datetime64[ns, UTC](3)\n",
      "memory usage: 484.5 KB\n"
     ]
    }
   ],
   "source": [
    "#Changing datatype of date columns\n",
    "date_col = [\"dateSeen\", \"dateAdded\", \"dateUpdated\"]\n",
    "for col in date_col:\n",
    "    df[col] = pd.to_datetime(df[col])\n",
    "df[date_col].info()"
   ]
  },
  {
   "cell_type": "markdown",
   "id": "c67a364b",
   "metadata": {},
   "source": [
    "Let's create the new columns for further analysis."
   ]
  },
  {
   "cell_type": "code",
   "execution_count": 778,
   "id": "a20fe263",
   "metadata": {},
   "outputs": [
    {
     "name": "stderr",
     "output_type": "stream",
     "text": [
      "/tmp/ipykernel_32865/3028750496.py:5: FutureWarning: Series.dt.weekofyear and Series.dt.week have been deprecated.  Please use Series.dt.isocalendar().week instead.\n",
      "  df[col + \"_week_number\"]= df[col].dt.weekofyear\n"
     ]
    },
    {
     "data": {
      "text/html": [
       "<div>\n",
       "<style scoped>\n",
       "    .dataframe tbody tr th:only-of-type {\n",
       "        vertical-align: middle;\n",
       "    }\n",
       "\n",
       "    .dataframe tbody tr th {\n",
       "        vertical-align: top;\n",
       "    }\n",
       "\n",
       "    .dataframe thead th {\n",
       "        text-align: right;\n",
       "    }\n",
       "</style>\n",
       "<table border=\"1\" class=\"dataframe\">\n",
       "  <thead>\n",
       "    <tr style=\"text-align: right;\">\n",
       "      <th></th>\n",
       "      <th>id</th>\n",
       "      <th>amountMax</th>\n",
       "      <th>amountMin</th>\n",
       "      <th>availability</th>\n",
       "      <th>condition</th>\n",
       "      <th>dateSeen</th>\n",
       "      <th>isSale</th>\n",
       "      <th>merchant</th>\n",
       "      <th>shipping</th>\n",
       "      <th>asins</th>\n",
       "      <th>...</th>\n",
       "      <th>dateAdded_Hour</th>\n",
       "      <th>dateAdded_Day</th>\n",
       "      <th>dateAdded_week_number</th>\n",
       "      <th>dateAdded_Month</th>\n",
       "      <th>dateAdded_Year</th>\n",
       "      <th>dateUpdated_Hour</th>\n",
       "      <th>dateUpdated_Day</th>\n",
       "      <th>dateUpdated_week_number</th>\n",
       "      <th>dateUpdated_Month</th>\n",
       "      <th>dateUpdated_Year</th>\n",
       "    </tr>\n",
       "  </thead>\n",
       "  <tbody>\n",
       "    <tr>\n",
       "      <th>0</th>\n",
       "      <td>AVphzgbJLJeJML43fA0o</td>\n",
       "      <td>80.8423</td>\n",
       "      <td>80.8423</td>\n",
       "      <td>In Stock</td>\n",
       "      <td>New</td>\n",
       "      <td>2017-03-30 06:00:00+00:00</td>\n",
       "      <td>False</td>\n",
       "      <td>Bestbuy.com</td>\n",
       "      <td>NaN</td>\n",
       "      <td>B00C78VIUE</td>\n",
       "      <td>...</td>\n",
       "      <td>12</td>\n",
       "      <td>Monday</td>\n",
       "      <td>16</td>\n",
       "      <td>4</td>\n",
       "      <td>2015</td>\n",
       "      <td>18</td>\n",
       "      <td>Saturday</td>\n",
       "      <td>19</td>\n",
       "      <td>5</td>\n",
       "      <td>2018</td>\n",
       "    </tr>\n",
       "    <tr>\n",
       "      <th>1</th>\n",
       "      <td>AVpgMuGwLJeJML43KY_c</td>\n",
       "      <td>53.1300</td>\n",
       "      <td>50.0423</td>\n",
       "      <td>In Stock</td>\n",
       "      <td>New</td>\n",
       "      <td>2017-12-14 06:00:00+00:00</td>\n",
       "      <td>True</td>\n",
       "      <td>Walmart.com</td>\n",
       "      <td>Expedited</td>\n",
       "      <td>B018K251JE,B00VILQKQ8</td>\n",
       "      <td>...</td>\n",
       "      <td>14</td>\n",
       "      <td>Monday</td>\n",
       "      <td>21</td>\n",
       "      <td>5</td>\n",
       "      <td>2015</td>\n",
       "      <td>19</td>\n",
       "      <td>Wednesday</td>\n",
       "      <td>24</td>\n",
       "      <td>6</td>\n",
       "      <td>2018</td>\n",
       "    </tr>\n",
       "  </tbody>\n",
       "</table>\n",
       "<p>2 rows × 37 columns</p>\n",
       "</div>"
      ],
      "text/plain": [
       "                     id  amountMax  amountMin availability condition  \\\n",
       "0  AVphzgbJLJeJML43fA0o    80.8423    80.8423     In Stock       New   \n",
       "1  AVpgMuGwLJeJML43KY_c    53.1300    50.0423     In Stock       New   \n",
       "\n",
       "                   dateSeen  isSale     merchant   shipping  \\\n",
       "0 2017-03-30 06:00:00+00:00   False  Bestbuy.com        NaN   \n",
       "1 2017-12-14 06:00:00+00:00    True  Walmart.com  Expedited   \n",
       "\n",
       "                   asins  ... dateAdded_Hour dateAdded_Day  \\\n",
       "0             B00C78VIUE  ...             12        Monday   \n",
       "1  B018K251JE,B00VILQKQ8  ...             14        Monday   \n",
       "\n",
       "  dateAdded_week_number dateAdded_Month dateAdded_Year dateUpdated_Hour  \\\n",
       "0                    16               4           2015               18   \n",
       "1                    21               5           2015               19   \n",
       "\n",
       "  dateUpdated_Day dateUpdated_week_number dateUpdated_Month dateUpdated_Year  \n",
       "0        Saturday                      19                 5             2018  \n",
       "1       Wednesday                      24                 6             2018  \n",
       "\n",
       "[2 rows x 37 columns]"
      ]
     },
     "execution_count": 778,
     "metadata": {},
     "output_type": "execute_result"
    }
   ],
   "source": [
    "#Adding Hour, Day, Week, Month and Year columns\n",
    "for col in date_col:\n",
    "    df[col + \"_Hour\"]= df[col].dt.hour\n",
    "    df[col + \"_Day\"]= df[col].dt.day_name()\n",
    "    df[col + \"_week_number\"]= df[col].dt.weekofyear\n",
    "    df[col + \"_Month\"]= df[col].dt.month\n",
    "    df[col + \"_Year\"]= df[col].dt.year\n",
    "    \n",
    "df.head(2)"
   ]
  },
  {
   "cell_type": "markdown",
   "id": "a6f92c52",
   "metadata": {},
   "source": [
    "Distributions in the added columns is below."
   ]
  },
  {
   "cell_type": "code",
   "execution_count": 779,
   "id": "261b09dc",
   "metadata": {},
   "outputs": [
    {
     "data": {
      "image/png": "[encoded data removed]",
      "text/plain": [
       "<Figure size 1080x216 with 3 Axes>"
      ]
     },
     "metadata": {
      "needs_background": "light"
     },
     "output_type": "display_data"
    }
   ],
   "source": [
    "fig, axes = plt.subplots(1, 3, figsize = (15,3))\n",
    "i = 0\n",
    "for col in df.columns:\n",
    "    if \"_Year\" in col:\n",
    "        \n",
    "        df[col].value_counts().plot(kind = \"bar\", ax = axes[i])\n",
    "        axes[i].set_xlabel(\"Year\")\n",
    "        axes[i].set_ylabel(\"Counts\")\n",
    "        axes[i].set_title(col.replace(\"_Year\", \"\") + \": Distribution with respect to year\")\n",
    "        i+=1\n",
    "\n",
    "fig.tight_layout()\n",
    "#fig.show()"
   ]
  },
  {
   "cell_type": "markdown",
   "id": "b0392086",
   "metadata": {},
   "source": [
    "Most products were Added and Seen in the year 2017 while all the products were Updated in 2018.\n",
    "\n",
    "Similar plots can be generated for **Hour**, **Month** and **Day of Week** columns."
   ]
  },
  {
   "cell_type": "code",
   "execution_count": 780,
   "id": "f3d3d086",
   "metadata": {},
   "outputs": [
    {
     "data": {
      "image/png": "[encoded data removed]",
      "text/plain": [
       "<Figure size 1080x216 with 3 Axes>"
      ]
     },
     "metadata": {
      "needs_background": "light"
     },
     "output_type": "display_data"
    }
   ],
   "source": [
    "fig, axes = plt.subplots(1, 3, figsize = (15,3))\n",
    "i = 0\n",
    "for col in df.columns:\n",
    "    if \"_Month\" in col:\n",
    "        \n",
    "        df[col].value_counts().plot(kind = \"bar\", ax = axes[i])\n",
    "        axes[i].set_xlabel(\"Month\")\n",
    "        axes[i].set_ylabel(\"Counts\")\n",
    "        axes[i].set_title(col.replace(\"_Month\", \"\") + \": Distribution with respect to Month\")\n",
    "        i+=1\n",
    "\n",
    "fig.tight_layout()\n",
    "#fig.show()"
   ]
  },
  {
   "cell_type": "markdown",
   "id": "7521ec64",
   "metadata": {},
   "source": [
    "Looks like May, June and July are the months in which there is most activity."
   ]
  },
  {
   "cell_type": "code",
   "execution_count": 781,
   "id": "034c27b5",
   "metadata": {},
   "outputs": [
    {
     "data": {
      "image/png": "[encoded data removed]",
      "text/plain": [
       "<Figure size 1080x216 with 3 Axes>"
      ]
     },
     "metadata": {
      "needs_background": "light"
     },
     "output_type": "display_data"
    }
   ],
   "source": [
    "fig, axes = plt.subplots(1, 3, figsize = (15,3))\n",
    "i = 0\n",
    "for col in df.columns:\n",
    "    if \"_Hour\" in col:\n",
    "        \n",
    "        df[col].value_counts().plot(kind = \"bar\", ax = axes[i])\n",
    "        axes[i].set_xlabel(\"Hour\")\n",
    "        axes[i].set_ylabel(\"Counts\")\n",
    "        axes[i].set_title(col.replace(\"_Hour\", \"\") + \": Distribution with respect to Hour\")\n",
    "        i+=1\n",
    "\n",
    "fig.tight_layout()\n",
    "#fig.show()"
   ]
  },
  {
   "cell_type": "markdown",
   "id": "2918835c",
   "metadata": {},
   "source": [
    "Most active hours are the evening hours."
   ]
  },
  {
   "cell_type": "code",
   "execution_count": 782,
   "id": "cc6ee3a7",
   "metadata": {},
   "outputs": [
    {
     "data": {
      "image/png": "[encoded data removed]",
      "text/plain": [
       "<Figure size 1080x216 with 3 Axes>"
      ]
     },
     "metadata": {
      "needs_background": "light"
     },
     "output_type": "display_data"
    }
   ],
   "source": [
    "fig, axes = plt.subplots(1, 3, figsize = (15,3))\n",
    "i = 0\n",
    "for col in df.columns:\n",
    "    if \"_Day\" in col:\n",
    "        \n",
    "        df[col].value_counts().plot(kind = \"bar\", ax = axes[i])\n",
    "        axes[i].set_xlabel(\"Day\")\n",
    "        axes[i].set_ylabel(\"Counts\")\n",
    "        axes[i].set_title(col.replace(\"_Day\", \"\") + \": Distribution with respect to Day\")\n",
    "        i+=1\n",
    "\n",
    "#fig.tight_layout()\n",
    "#fig.show()"
   ]
  },
  {
   "cell_type": "markdown",
   "id": "fa8c1c60",
   "metadata": {},
   "source": [
    "Moving on to **isSale** column which represents if an item is on sale or not."
   ]
  },
  {
   "cell_type": "code",
   "execution_count": 783,
   "id": "45618d72",
   "metadata": {},
   "outputs": [
    {
     "data": {
      "text/html": [
       "<div>\n",
       "<style scoped>\n",
       "    .dataframe tbody tr th:only-of-type {\n",
       "        vertical-align: middle;\n",
       "    }\n",
       "\n",
       "    .dataframe tbody tr th {\n",
       "        vertical-align: top;\n",
       "    }\n",
       "\n",
       "    .dataframe thead th {\n",
       "        text-align: right;\n",
       "    }\n",
       "</style>\n",
       "<table border=\"1\" class=\"dataframe\">\n",
       "  <thead>\n",
       "    <tr style=\"text-align: right;\">\n",
       "      <th></th>\n",
       "      <th>isSale</th>\n",
       "    </tr>\n",
       "  </thead>\n",
       "  <tbody>\n",
       "    <tr>\n",
       "      <th>False</th>\n",
       "      <td>5506</td>\n",
       "    </tr>\n",
       "    <tr>\n",
       "      <th>True</th>\n",
       "      <td>1740</td>\n",
       "    </tr>\n",
       "  </tbody>\n",
       "</table>\n",
       "</div>"
      ],
      "text/plain": [
       "       isSale\n",
       "False    5506\n",
       "True     1740"
      ]
     },
     "execution_count": 783,
     "metadata": {},
     "output_type": "execute_result"
    }
   ],
   "source": [
    "df.isSale.value_counts().to_frame()"
   ]
  },
  {
   "cell_type": "code",
   "execution_count": 798,
   "id": "ecc00658",
   "metadata": {},
   "outputs": [
    {
     "data": {
      "image/png": "[encoded data removed]",
      "text/plain": [
       "<Figure size 432x288 with 1 Axes>"
      ]
     },
     "metadata": {},
     "output_type": "display_data"
    }
   ],
   "source": [
    "df.isSale.value_counts().to_frame().plot(kind = \"pie\", y = \"isSale\");"
   ]
  },
  {
   "cell_type": "markdown",
   "id": "6f977d42",
   "metadata": {},
   "source": [
    "A little less than 25% items are on Sale."
   ]
  },
  {
   "cell_type": "markdown",
   "id": "baff82fc",
   "metadata": {},
   "source": [
    "Let's compare the summary statistics of items that are on sale with those not on sale."
   ]
  },
  {
   "cell_type": "code",
   "execution_count": 808,
   "id": "3855044b",
   "metadata": {},
   "outputs": [
    {
     "data": {
      "text/html": [
       "<div>\n",
       "<style scoped>\n",
       "    .dataframe tbody tr th:only-of-type {\n",
       "        vertical-align: middle;\n",
       "    }\n",
       "\n",
       "    .dataframe tbody tr th {\n",
       "        vertical-align: top;\n",
       "    }\n",
       "\n",
       "    .dataframe thead th {\n",
       "        text-align: right;\n",
       "    }\n",
       "</style>\n",
       "<table border=\"1\" class=\"dataframe\">\n",
       "  <thead>\n",
       "    <tr style=\"text-align: right;\">\n",
       "      <th></th>\n",
       "      <th>amountMax_Mean</th>\n",
       "      <th>amountMax_Median</th>\n",
       "    </tr>\n",
       "    <tr>\n",
       "      <th>isSale</th>\n",
       "      <th></th>\n",
       "      <th></th>\n",
       "    </tr>\n",
       "  </thead>\n",
       "  <tbody>\n",
       "    <tr>\n",
       "      <th>False</th>\n",
       "      <td>320.201196</td>\n",
       "      <td>131.593</td>\n",
       "    </tr>\n",
       "    <tr>\n",
       "      <th>True</th>\n",
       "      <td>576.184801</td>\n",
       "      <td>229.460</td>\n",
       "    </tr>\n",
       "  </tbody>\n",
       "</table>\n",
       "</div>"
      ],
      "text/plain": [
       "        amountMax_Mean  amountMax_Median\n",
       "isSale                                  \n",
       "False       320.201196           131.593\n",
       "True        576.184801           229.460"
      ]
     },
     "execution_count": 808,
     "metadata": {},
     "output_type": "execute_result"
    }
   ],
   "source": [
    "stats = df.groupby(\"isSale\")[\"amountMax\"].mean().to_frame()\n",
    "stats.columns = [\"amountMax_Mean\"]\n",
    "stats1 = df.groupby(\"isSale\")[\"amountMax\"].median().to_frame()\n",
    "stats1.columns = [\"amountMax_Median\"]\n",
    "pd.concat([stats, stats1], axis = 1)"
   ]
  },
  {
   "cell_type": "code",
   "execution_count": 809,
   "id": "f83e898d",
   "metadata": {},
   "outputs": [
    {
     "data": {
      "text/html": [
       "<div>\n",
       "<style scoped>\n",
       "    .dataframe tbody tr th:only-of-type {\n",
       "        vertical-align: middle;\n",
       "    }\n",
       "\n",
       "    .dataframe tbody tr th {\n",
       "        vertical-align: top;\n",
       "    }\n",
       "\n",
       "    .dataframe thead th {\n",
       "        text-align: right;\n",
       "    }\n",
       "</style>\n",
       "<table border=\"1\" class=\"dataframe\">\n",
       "  <thead>\n",
       "    <tr style=\"text-align: right;\">\n",
       "      <th></th>\n",
       "      <th>amountMin_Mean</th>\n",
       "      <th>amountMin_Median</th>\n",
       "    </tr>\n",
       "    <tr>\n",
       "      <th>isSale</th>\n",
       "      <th></th>\n",
       "      <th></th>\n",
       "    </tr>\n",
       "  </thead>\n",
       "  <tbody>\n",
       "    <tr>\n",
       "      <th>False</th>\n",
       "      <td>320.201196</td>\n",
       "      <td>131.5930</td>\n",
       "    </tr>\n",
       "    <tr>\n",
       "      <th>True</th>\n",
       "      <td>474.591174</td>\n",
       "      <td>211.3573</td>\n",
       "    </tr>\n",
       "  </tbody>\n",
       "</table>\n",
       "</div>"
      ],
      "text/plain": [
       "        amountMin_Mean  amountMin_Median\n",
       "isSale                                  \n",
       "False       320.201196          131.5930\n",
       "True        474.591174          211.3573"
      ]
     },
     "execution_count": 809,
     "metadata": {},
     "output_type": "execute_result"
    }
   ],
   "source": [
    "stats = df.groupby(\"isSale\")[\"amountMin\"].mean().to_frame()\n",
    "stats.columns = [\"amountMin_Mean\"]\n",
    "stats1 = df.groupby(\"isSale\")[\"amountMin\"].median().to_frame()\n",
    "stats1.columns = [\"amountMin_Median\"]\n",
    "pd.concat([stats, stats1], axis = 1)"
   ]
  },
  {
   "cell_type": "markdown",
   "id": "9ef43fc2",
   "metadata": {},
   "source": [
    "The comparision suggests that the items which are on Sale have higher Prices."
   ]
  },
  {
   "cell_type": "markdown",
   "id": "ac67fef3",
   "metadata": {},
   "source": [
    "Moving onto **merchant** and **brand** columns:"
   ]
  },
  {
   "cell_type": "code",
   "execution_count": 814,
   "id": "b37c450d",
   "metadata": {},
   "outputs": [
    {
     "data": {
      "image/png": "[encoded data removed]",
      "text/plain": [
       "<Figure size 432x288 with 1 Axes>"
      ]
     },
     "metadata": {
      "needs_background": "light"
     },
     "output_type": "display_data"
    }
   ],
   "source": [
    "#Creating a list of top merchants. The merchants which are not in top 20 are categorised as others\n",
    "df_top_merchants = (\n",
    "    df[\"merchant\"]\n",
    "    .value_counts(normalize = True)\n",
    "    .sort_values(ascending = False)\n",
    "    .head(20)\n",
    ")\n",
    "df_top_merchants[\"others\"] = 1 - df_top_merchants.sum()\n",
    "df_top_merchants = df_top_merchants.to_frame()\n",
    "\n",
    "#Plotting a horizontal Bar Graph\n",
    "df_top_merchants.plot.barh(xlim = (0,1))\n",
    "import matplotlib.pyplot as plt\n",
    "plt.xlabel(\"Frequency\")\n",
    "plt.ylabel(\"Merchant\")\n",
    "plt.title(\"Merchant vs Frequency Distribution\");"
   ]
  },
  {
   "cell_type": "code",
   "execution_count": 813,
   "id": "6e9fe341",
   "metadata": {},
   "outputs": [
    {
     "name": "stdout",
     "output_type": "stream",
     "text": [
      "Here is a datframe containing bottom 10 merchants :\n"
     ]
    },
    {
     "data": {
      "text/html": [
       "<div>\n",
       "<style scoped>\n",
       "    .dataframe tbody tr th:only-of-type {\n",
       "        vertical-align: middle;\n",
       "    }\n",
       "\n",
       "    .dataframe tbody tr th {\n",
       "        vertical-align: top;\n",
       "    }\n",
       "\n",
       "    .dataframe thead th {\n",
       "        text-align: right;\n",
       "    }\n",
       "</style>\n",
       "<table border=\"1\" class=\"dataframe\">\n",
       "  <thead>\n",
       "    <tr style=\"text-align: right;\">\n",
       "      <th></th>\n",
       "      <th>Proportion</th>\n",
       "    </tr>\n",
       "  </thead>\n",
       "  <tbody>\n",
       "    <tr>\n",
       "      <th>Tunny LLC</th>\n",
       "      <td>0.000139</td>\n",
       "    </tr>\n",
       "    <tr>\n",
       "      <th>livinitandlovinitretail</th>\n",
       "      <td>0.000139</td>\n",
       "    </tr>\n",
       "    <tr>\n",
       "      <th>premium-electronics</th>\n",
       "      <td>0.000139</td>\n",
       "    </tr>\n",
       "    <tr>\n",
       "      <th>aftermathoutdoor336</th>\n",
       "      <td>0.000139</td>\n",
       "    </tr>\n",
       "    <tr>\n",
       "      <th>Widgetree</th>\n",
       "      <td>0.000139</td>\n",
       "    </tr>\n",
       "    <tr>\n",
       "      <th>monimorgan</th>\n",
       "      <td>0.000139</td>\n",
       "    </tr>\n",
       "    <tr>\n",
       "      <th>bargainbrokers</th>\n",
       "      <td>0.000139</td>\n",
       "    </tr>\n",
       "    <tr>\n",
       "      <th>hsum8885</th>\n",
       "      <td>0.000139</td>\n",
       "    </tr>\n",
       "    <tr>\n",
       "      <th>mcmech</th>\n",
       "      <td>0.000139</td>\n",
       "    </tr>\n",
       "    <tr>\n",
       "      <th>apc_sales</th>\n",
       "      <td>0.000139</td>\n",
       "    </tr>\n",
       "  </tbody>\n",
       "</table>\n",
       "</div>"
      ],
      "text/plain": [
       "                         Proportion\n",
       "Tunny LLC                  0.000139\n",
       "livinitandlovinitretail    0.000139\n",
       "premium-electronics        0.000139\n",
       "aftermathoutdoor336        0.000139\n",
       "Widgetree                  0.000139\n",
       "monimorgan                 0.000139\n",
       "bargainbrokers             0.000139\n",
       "hsum8885                   0.000139\n",
       "mcmech                     0.000139\n",
       "apc_sales                  0.000139"
      ]
     },
     "execution_count": 813,
     "metadata": {},
     "output_type": "execute_result"
    }
   ],
   "source": [
    "#Bottom 10 Merchants\n",
    "print(\"Here is a datframe containing bottom 10 merchants :\")\n",
    "df_bottom_merchants = (\n",
    "    df[\"merchant\"]\n",
    "    .value_counts(normalize = True)\n",
    "    .sort_values(ascending = False)\n",
    "    .tail(10)\n",
    "    .to_frame()\n",
    ")\n",
    "df_bottom_merchants.columns = [\"Proportion\"]\n",
    "df_bottom_merchants"
   ]
  },
  {
   "cell_type": "markdown",
   "id": "3bffdaab",
   "metadata": {},
   "source": [
    "Below is a wordcloud highlighting the most frequently listed brands.\n"
   ]
  },
  {
   "cell_type": "code",
   "execution_count": 788,
   "id": "a93224bc",
   "metadata": {},
   "outputs": [
    {
     "data": {
      "image/png": "[encoded data removed]",
      "text/plain": [
       "<Figure size 432x288 with 1 Axes>"
      ]
     },
     "metadata": {
      "needs_background": "light"
     },
     "output_type": "display_data"
    }
   ],
   "source": [
    "#Generating a wordcloud of brands\n",
    "wordcloud = wc.WordCloud(width = 1500, height = 1000, collocations= False).generate(' '.join(df[\"brand\"]))\n",
    "plt.imshow(wordcloud)\n",
    "plt.axis(\"off\");\n"
   ]
  },
  {
   "cell_type": "code",
   "execution_count": 789,
   "id": "49d2b4da",
   "metadata": {},
   "outputs": [
    {
     "data": {
      "text/plain": [
       "Sony        785\n",
       "Samsung     744\n",
       "Apple       248\n",
       "Yamaha      240\n",
       "Pioneer     176\n",
       "LG          175\n",
       "Logitech    116\n",
       "Lenovo      110\n",
       "WD          108\n",
       "CORSAIR     103\n",
       "Name: brand, dtype: int64"
      ]
     },
     "execution_count": 789,
     "metadata": {},
     "output_type": "execute_result"
    }
   ],
   "source": [
    "df.brand.value_counts().head(10)"
   ]
  },
  {
   "cell_type": "markdown",
   "id": "190314b3",
   "metadata": {},
   "source": [
    "The next column is **categories**."
   ]
  },
  {
   "cell_type": "code",
   "execution_count": 790,
   "id": "c8ae7cbf",
   "metadata": {},
   "outputs": [
    {
     "data": {
      "text/plain": [
       "Computers,Internal Hard Drives,Network Attached Storage Drives etryvwsrbvvvvxfutbey,Internal Drives,Drives, Storage & Blank Media,Computers & Accessories,Networking,Hard Drives (HDD, SSD & NAS),Computer Accessories & Peripherals,Internal Hard Disk Drives,Electronics,Hard Drives & Storage,Drives Storage,Computers/Tablets & Networking,Computer Components,NAS Servers,Computers & Tablets,Network Attached Storage Drives,Data Storage    59\n",
       "4K Ultra HD TVs,Samsung Smart TVs,Samsung Tax Time Savings,TV, Video & Home Audio,Electronics,Shop TVs by Type,Televisions,TVs Entertainment,TV & Home Theater,LED & LCD TVs,All TVs,Consumer Electronics,TVs,Refurbished TVs,TV & Video,Smart TVs by Brand,Television & Video,LED TVs                                                                                                                                                             53\n",
       "Name: categories, dtype: int64"
      ]
     },
     "execution_count": 790,
     "metadata": {},
     "output_type": "execute_result"
    }
   ],
   "source": [
    "df.categories.value_counts().head(2)"
   ]
  },
  {
   "cell_type": "markdown",
   "id": "5401259c",
   "metadata": {},
   "source": [
    "The categories values are too lengthy. We will store only the leading category (before the first comma) from each value and discard the rest."
   ]
  },
  {
   "cell_type": "code",
   "execution_count": 791,
   "id": "d38c950c",
   "metadata": {},
   "outputs": [
    {
     "name": "stdout",
     "output_type": "stream",
     "text": [
      "The top 5 categories are-\n"
     ]
    },
    {
     "data": {
      "text/plain": [
       "Computers            1889\n",
       "Electronics           665\n",
       "Headphones            353\n",
       "Stereos               300\n",
       "TVs & Electronics     249\n",
       "Name: category, dtype: int64"
      ]
     },
     "execution_count": 791,
     "metadata": {},
     "output_type": "execute_result"
    }
   ],
   "source": [
    "df[\"category\"] = df.categories.str.split(\",\", expand = True)[0]\n",
    "df.drop([\"categories\"], axis = 1, inplace = True)\n",
    "print(\"The top 5 categories are-\")\n",
    "df.category.value_counts().head()"
   ]
  },
  {
   "cell_type": "code",
   "execution_count": 792,
   "id": "8dbcfd27",
   "metadata": {},
   "outputs": [
    {
     "data": {
      "text/plain": [
       "Electronics              7193\n",
       " Apple CarPlay             27\n",
       " Intel Celeron             12\n",
       "Electronics,Furniture       8\n",
       " Siri Eyes Free             6\n",
       "Name: primaryCategories, dtype: int64"
      ]
     },
     "execution_count": 792,
     "metadata": {},
     "output_type": "execute_result"
    }
   ],
   "source": [
    "df.primaryCategories.value_counts()"
   ]
  },
  {
   "cell_type": "markdown",
   "id": "9aa0ef44",
   "metadata": {},
   "source": [
    "The data contains mostly electronics items.\n",
    "\n",
    "The **shipping** column has too many null values. So, it is not explored.\n",
    "\n",
    "Let's have a look at the **weight** column."
   ]
  },
  {
   "cell_type": "code",
   "execution_count": 793,
   "id": "1619b0ce",
   "metadata": {},
   "outputs": [
    {
     "data": {
      "text/plain": [
       "0    32.8 pounds\n",
       "1      14 pounds\n",
       "2      14 pounds\n",
       "3      14 pounds\n",
       "4      14 pounds\n",
       "Name: weight, dtype: object"
      ]
     },
     "execution_count": 793,
     "metadata": {},
     "output_type": "execute_result"
    }
   ],
   "source": [
    "df.weight.head()"
   ]
  },
  {
   "cell_type": "markdown",
   "id": "99fb56b2",
   "metadata": {},
   "source": [
    "The weight should be a float instead of string. Also, upon further exploration, it was found that there are many other irregularities in the weight column, like, many values are missing but not null (in form of \"\"), many entries contain repeated weights like \"1.8 1.8 1.8 .....\". These issues are fixed below. A few rows having \"\" as weights are dropped."
   ]
  },
  {
   "cell_type": "code",
   "execution_count": 794,
   "id": "cdaad949",
   "metadata": {},
   "outputs": [
    {
     "name": "stderr",
     "output_type": "stream",
     "text": [
      "/tmp/ipykernel_32865/2071795804.py:3: FutureWarning: The default value of regex will change from True to False in a future version.\n",
      "  df.weight = df.weight.str.replace(\"[A-Za-z]\" , \"\" ).replace(\" \", \"\")\n"
     ]
    }
   ],
   "source": [
    "#reformatting weight column (this column had many irregularities)\n",
    "df.weight = df.weight.str[:4]\n",
    "df.weight = df.weight.str.replace(\"[A-Za-z]\" , \"\" ).replace(\" \", \"\")\n",
    "df.drop(df.loc[df.weight == \"\"].index, inplace = True)\n",
    "df.weight = df.weight.astype(float)"
   ]
  },
  {
   "cell_type": "code",
   "execution_count": 817,
   "id": "21d9d807",
   "metadata": {},
   "outputs": [
    {
     "data": {
      "text/plain": [
       "0    32.8\n",
       "1    14.0\n",
       "2    14.0\n",
       "3    14.0\n",
       "4    14.0\n",
       "Name: weight, dtype: float64"
      ]
     },
     "execution_count": 817,
     "metadata": {},
     "output_type": "execute_result"
    }
   ],
   "source": [
    "df.weight.head()"
   ]
  },
  {
   "cell_type": "code",
   "execution_count": 829,
   "id": "fff4443f",
   "metadata": {},
   "outputs": [
    {
     "data": {
      "image/png": "[encoded data removed]",
      "text/plain": [
       "<Figure size 432x288 with 1 Axes>"
      ]
     },
     "metadata": {
      "needs_background": "light"
     },
     "output_type": "display_data"
    }
   ],
   "source": [
    "df.weight.plot(kind = \"box\", \n",
    "               title = \"Distribution of Weight\",\n",
    "               labels = [\"Pounds\"]);"
   ]
  },
  {
   "cell_type": "markdown",
   "id": "b39d0384",
   "metadata": {},
   "source": [
    "Clearly there are many outliers. We will try removing the top 10% itmes."
   ]
  },
  {
   "cell_type": "code",
   "execution_count": 848,
   "id": "245d9119",
   "metadata": {},
   "outputs": [
    {
     "data": {
      "image/png": "[encoded data removed]",
      "text/plain": [
       "<Figure size 432x288 with 1 Axes>"
      ]
     },
     "metadata": {
      "needs_background": "light"
     },
     "output_type": "display_data"
    }
   ],
   "source": [
    "top = df.weight.quantile(0.9)\n",
    "df[(df[\"weight\"] < top) ][\"weight\"].plot(kind = \"box\", labels = [\"count\"])\n",
    "plt.ylabel(\"[Pounds]\");"
   ]
  },
  {
   "cell_type": "code",
   "execution_count": null,
   "id": "0464a5fe",
   "metadata": {},
   "outputs": [],
   "source": []
  }
 ],
 "metadata": {
  "kernelspec": {
   "display_name": "Python 3 (ipykernel)",
   "language": "python",
   "name": "python3"
  },
  "language_info": {
   "codemirror_mode": {
    "name": "ipython",
    "version": 3
   },
   "file_extension": ".py",
   "mimetype": "text/x-python",
   "name": "python",
   "nbconvert_exporter": "python",
   "pygments_lexer": "ipython3",
   "version": "3.8.10"
  }
 },
 "nbformat": 4,
 "nbformat_minor": 5
}
