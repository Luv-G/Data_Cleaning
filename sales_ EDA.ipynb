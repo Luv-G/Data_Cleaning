{
 "cells": [
  {
   "cell_type": "markdown",
   "id": "9302f2bc",
   "metadata": {},
   "source": [
    "# This exploratory data analysis is based on the products data provided by Amazon."
   ]
  },
  {
   "cell_type": "code",
   "execution_count": 61,
   "id": "d9a1c0c0",
   "metadata": {},
   "outputs": [],
   "source": [
    "#importing the libraries that will be used in this project\n",
    "import pandas as pd\n",
    "import matplotlib.pyplot as plt\n",
    "import numpy as np\n",
    "from termcolor import colored"
   ]
  },
  {
   "cell_type": "code",
   "execution_count": 62,
   "id": "7cedc8fe",
   "metadata": {},
   "outputs": [
    {
     "name": "stdout",
     "output_type": "stream",
     "text": [
      "Initial shape of the dataframe is :  (7249, 31) \n",
      "\n",
      "The first 2 rows of the dataframe are- \n",
      "\n"
     ]
    },
    {
     "data": {
      "text/html": [
       "<div>\n",
       "<style scoped>\n",
       "    .dataframe tbody tr th:only-of-type {\n",
       "        vertical-align: middle;\n",
       "    }\n",
       "\n",
       "    .dataframe tbody tr th {\n",
       "        vertical-align: top;\n",
       "    }\n",
       "\n",
       "    .dataframe thead th {\n",
       "        text-align: right;\n",
       "    }\n",
       "</style>\n",
       "<table border=\"1\" class=\"dataframe\">\n",
       "  <thead>\n",
       "    <tr style=\"text-align: right;\">\n",
       "      <th></th>\n",
       "      <th>id</th>\n",
       "      <th>prices.amountMax</th>\n",
       "      <th>prices.amountMin</th>\n",
       "      <th>prices.availability</th>\n",
       "      <th>prices.condition</th>\n",
       "      <th>prices.currency</th>\n",
       "      <th>prices.dateSeen</th>\n",
       "      <th>prices.isSale</th>\n",
       "      <th>prices.merchant</th>\n",
       "      <th>prices.shipping</th>\n",
       "      <th>...</th>\n",
       "      <th>name</th>\n",
       "      <th>primaryCategories</th>\n",
       "      <th>sourceURLs</th>\n",
       "      <th>upc</th>\n",
       "      <th>weight</th>\n",
       "      <th>Unnamed: 26</th>\n",
       "      <th>Unnamed: 27</th>\n",
       "      <th>Unnamed: 28</th>\n",
       "      <th>Unnamed: 29</th>\n",
       "      <th>Unnamed: 30</th>\n",
       "    </tr>\n",
       "  </thead>\n",
       "  <tbody>\n",
       "    <tr>\n",
       "      <th>0</th>\n",
       "      <td>AVphzgbJLJeJML43fA0o</td>\n",
       "      <td>104.99</td>\n",
       "      <td>104.99</td>\n",
       "      <td>Yes</td>\n",
       "      <td>New</td>\n",
       "      <td>USD</td>\n",
       "      <td>2017-03-30T06:00:00Z,2017-03-10T22:00:00Z,2017...</td>\n",
       "      <td>False</td>\n",
       "      <td>Bestbuy.com</td>\n",
       "      <td>NaN</td>\n",
       "      <td>...</td>\n",
       "      <td>Sanus VLF410B1 10-Inch Super Slim Full-Motion ...</td>\n",
       "      <td>Electronics</td>\n",
       "      <td>https://www.amazon.com/Sanus-VLF410B1-10-Inch-...</td>\n",
       "      <td>7.94E+11</td>\n",
       "      <td>32.8 pounds</td>\n",
       "      <td>NaN</td>\n",
       "      <td>NaN</td>\n",
       "      <td>NaN</td>\n",
       "      <td>NaN</td>\n",
       "      <td>NaN</td>\n",
       "    </tr>\n",
       "    <tr>\n",
       "      <th>1</th>\n",
       "      <td>AVpgMuGwLJeJML43KY_c</td>\n",
       "      <td>69.00</td>\n",
       "      <td>64.99</td>\n",
       "      <td>In Stock</td>\n",
       "      <td>New</td>\n",
       "      <td>USD</td>\n",
       "      <td>2017-12-14T06:00:00Z</td>\n",
       "      <td>True</td>\n",
       "      <td>Walmart.com</td>\n",
       "      <td>Expedited</td>\n",
       "      <td>...</td>\n",
       "      <td>Boytone - 2500W 2.1-Ch. Home Theater System - ...</td>\n",
       "      <td>Electronics</td>\n",
       "      <td>http://reviews.bestbuy.com/3545/4784804/review...</td>\n",
       "      <td>6.42E+11</td>\n",
       "      <td>14 pounds</td>\n",
       "      <td>NaN</td>\n",
       "      <td>NaN</td>\n",
       "      <td>NaN</td>\n",
       "      <td>NaN</td>\n",
       "      <td>NaN</td>\n",
       "    </tr>\n",
       "  </tbody>\n",
       "</table>\n",
       "<p>2 rows × 31 columns</p>\n",
       "</div>"
      ],
      "text/plain": [
       "                     id  prices.amountMax  prices.amountMin  \\\n",
       "0  AVphzgbJLJeJML43fA0o            104.99            104.99   \n",
       "1  AVpgMuGwLJeJML43KY_c             69.00             64.99   \n",
       "\n",
       "  prices.availability prices.condition prices.currency  \\\n",
       "0                 Yes              New             USD   \n",
       "1            In Stock              New             USD   \n",
       "\n",
       "                                     prices.dateSeen  prices.isSale  \\\n",
       "0  2017-03-30T06:00:00Z,2017-03-10T22:00:00Z,2017...          False   \n",
       "1                               2017-12-14T06:00:00Z           True   \n",
       "\n",
       "  prices.merchant prices.shipping  ...  \\\n",
       "0     Bestbuy.com             NaN  ...   \n",
       "1     Walmart.com       Expedited  ...   \n",
       "\n",
       "                                                name primaryCategories  \\\n",
       "0  Sanus VLF410B1 10-Inch Super Slim Full-Motion ...       Electronics   \n",
       "1  Boytone - 2500W 2.1-Ch. Home Theater System - ...       Electronics   \n",
       "\n",
       "                                          sourceURLs       upc       weight  \\\n",
       "0  https://www.amazon.com/Sanus-VLF410B1-10-Inch-...  7.94E+11  32.8 pounds   \n",
       "1  http://reviews.bestbuy.com/3545/4784804/review...  6.42E+11    14 pounds   \n",
       "\n",
       "  Unnamed: 26 Unnamed: 27 Unnamed: 28 Unnamed: 29 Unnamed: 30  \n",
       "0         NaN         NaN         NaN         NaN         NaN  \n",
       "1         NaN         NaN         NaN         NaN         NaN  \n",
       "\n",
       "[2 rows x 31 columns]"
      ]
     },
     "execution_count": 62,
     "metadata": {},
     "output_type": "execute_result"
    }
   ],
   "source": [
    "#reading the data into a dataframe\n",
    "df = pd.read_csv(\"../sample.csv\")\n",
    "#Intial shape of the dataframe\n",
    "print(\"Initial shape of the dataframe is : \", df.shape , \"\\n\")\n",
    "#Printing the first 2 rows of the datframe\n",
    "print(\"The first 2 rows of the dataframe are-\", \"\\n\")\n",
    "df.head(2)"
   ]
  },
  {
   "cell_type": "markdown",
   "id": "4e165b08",
   "metadata": {},
   "source": [
    "As can be seen from the datframe, it has several \"unnamed\" columns having mostly null values. \n",
    "Let's check the complete data for null values."
   ]
  },
  {
   "cell_type": "code",
   "execution_count": 63,
   "id": "bafb09cc",
   "metadata": {},
   "outputs": [
    {
     "data": {
      "text/html": [
       "<div>\n",
       "<style scoped>\n",
       "    .dataframe tbody tr th:only-of-type {\n",
       "        vertical-align: middle;\n",
       "    }\n",
       "\n",
       "    .dataframe tbody tr th {\n",
       "        vertical-align: top;\n",
       "    }\n",
       "\n",
       "    .dataframe thead th {\n",
       "        text-align: right;\n",
       "    }\n",
       "</style>\n",
       "<table border=\"1\" class=\"dataframe\">\n",
       "  <thead>\n",
       "    <tr style=\"text-align: right;\">\n",
       "      <th></th>\n",
       "      <th>Unnamed: 30</th>\n",
       "      <th>Unnamed: 28</th>\n",
       "      <th>Unnamed: 29</th>\n",
       "      <th>Unnamed: 27</th>\n",
       "      <th>Unnamed: 26</th>\n",
       "      <th>ean</th>\n",
       "      <th>manufacturer</th>\n",
       "      <th>prices.shipping</th>\n",
       "      <th>weight</th>\n",
       "      <th>upc</th>\n",
       "      <th>...</th>\n",
       "      <th>asins</th>\n",
       "      <th>prices.sourceURLs</th>\n",
       "      <th>prices.merchant</th>\n",
       "      <th>prices.isSale</th>\n",
       "      <th>prices.dateSeen</th>\n",
       "      <th>prices.currency</th>\n",
       "      <th>prices.condition</th>\n",
       "      <th>prices.availability</th>\n",
       "      <th>prices.amountMin</th>\n",
       "      <th>dateUpdated</th>\n",
       "    </tr>\n",
       "  </thead>\n",
       "  <tbody>\n",
       "    <tr>\n",
       "      <th>0</th>\n",
       "      <td>7243</td>\n",
       "      <td>7243</td>\n",
       "      <td>7237</td>\n",
       "      <td>7231</td>\n",
       "      <td>7210</td>\n",
       "      <td>5706</td>\n",
       "      <td>4014</td>\n",
       "      <td>2972</td>\n",
       "      <td>0</td>\n",
       "      <td>0</td>\n",
       "      <td>...</td>\n",
       "      <td>0</td>\n",
       "      <td>0</td>\n",
       "      <td>0</td>\n",
       "      <td>0</td>\n",
       "      <td>0</td>\n",
       "      <td>0</td>\n",
       "      <td>0</td>\n",
       "      <td>0</td>\n",
       "      <td>0</td>\n",
       "      <td>0</td>\n",
       "    </tr>\n",
       "  </tbody>\n",
       "</table>\n",
       "<p>1 rows × 31 columns</p>\n",
       "</div>"
      ],
      "text/plain": [
       "   Unnamed: 30  Unnamed: 28  Unnamed: 29  Unnamed: 27  Unnamed: 26   ean  \\\n",
       "0         7243         7243         7237         7231         7210  5706   \n",
       "\n",
       "   manufacturer  prices.shipping  weight  upc  ...  asins  prices.sourceURLs  \\\n",
       "0          4014             2972       0    0  ...      0                  0   \n",
       "\n",
       "   prices.merchant  prices.isSale  prices.dateSeen  prices.currency  \\\n",
       "0                0              0                0                0   \n",
       "\n",
       "   prices.condition  prices.availability  prices.amountMin  dateUpdated  \n",
       "0                 0                    0                 0            0  \n",
       "\n",
       "[1 rows x 31 columns]"
      ]
     },
     "execution_count": 63,
     "metadata": {},
     "output_type": "execute_result"
    }
   ],
   "source": [
    "df.isnull().sum().sort_values(ascending = False).to_frame().T"
   ]
  },
  {
   "cell_type": "markdown",
   "id": "08e51862",
   "metadata": {},
   "source": [
    "      "
   ]
  },
  {
   "cell_type": "markdown",
   "id": "14680a26",
   "metadata": {},
   "source": [
    "It is confirmed that all the **\"Unnamed\"** columns have mostly null values. Several other columns also have \n",
    "significantly high amount of missing values. But we will deal with those columns after understanding a bit more\n",
    "about the data. \n",
    "       For now, let's delete the **\"Unnamed\"** columns."
   ]
  },
  {
   "cell_type": "code",
   "execution_count": 64,
   "id": "61cc0173",
   "metadata": {},
   "outputs": [
    {
     "data": {
      "text/html": [
       "<div>\n",
       "<style scoped>\n",
       "    .dataframe tbody tr th:only-of-type {\n",
       "        vertical-align: middle;\n",
       "    }\n",
       "\n",
       "    .dataframe tbody tr th {\n",
       "        vertical-align: top;\n",
       "    }\n",
       "\n",
       "    .dataframe thead th {\n",
       "        text-align: right;\n",
       "    }\n",
       "</style>\n",
       "<table border=\"1\" class=\"dataframe\">\n",
       "  <thead>\n",
       "    <tr style=\"text-align: right;\">\n",
       "      <th></th>\n",
       "      <th>id</th>\n",
       "      <th>prices.amountMax</th>\n",
       "      <th>prices.amountMin</th>\n",
       "      <th>prices.availability</th>\n",
       "      <th>prices.condition</th>\n",
       "      <th>prices.currency</th>\n",
       "      <th>prices.dateSeen</th>\n",
       "      <th>prices.isSale</th>\n",
       "      <th>prices.merchant</th>\n",
       "      <th>prices.shipping</th>\n",
       "      <th>...</th>\n",
       "      <th>ean</th>\n",
       "      <th>imageURLs</th>\n",
       "      <th>keys</th>\n",
       "      <th>manufacturer</th>\n",
       "      <th>manufacturerNumber</th>\n",
       "      <th>name</th>\n",
       "      <th>primaryCategories</th>\n",
       "      <th>sourceURLs</th>\n",
       "      <th>upc</th>\n",
       "      <th>weight</th>\n",
       "    </tr>\n",
       "  </thead>\n",
       "  <tbody>\n",
       "    <tr>\n",
       "      <th>0</th>\n",
       "      <td>AVphzgbJLJeJML43fA0o</td>\n",
       "      <td>104.99</td>\n",
       "      <td>104.99</td>\n",
       "      <td>Yes</td>\n",
       "      <td>New</td>\n",
       "      <td>USD</td>\n",
       "      <td>2017-03-30T06:00:00Z,2017-03-10T22:00:00Z,2017...</td>\n",
       "      <td>False</td>\n",
       "      <td>Bestbuy.com</td>\n",
       "      <td>NaN</td>\n",
       "      <td>...</td>\n",
       "      <td>NaN</td>\n",
       "      <td>https://images-na.ssl-images-amazon.com/images...</td>\n",
       "      <td>sanusvlf410b110inchsuperslimfullmotionmountfor...</td>\n",
       "      <td>NaN</td>\n",
       "      <td>VLF410B1</td>\n",
       "      <td>Sanus VLF410B1 10-Inch Super Slim Full-Motion ...</td>\n",
       "      <td>Electronics</td>\n",
       "      <td>https://www.amazon.com/Sanus-VLF410B1-10-Inch-...</td>\n",
       "      <td>7.94E+11</td>\n",
       "      <td>32.8 pounds</td>\n",
       "    </tr>\n",
       "    <tr>\n",
       "      <th>1</th>\n",
       "      <td>AVpgMuGwLJeJML43KY_c</td>\n",
       "      <td>69.00</td>\n",
       "      <td>64.99</td>\n",
       "      <td>In Stock</td>\n",
       "      <td>New</td>\n",
       "      <td>USD</td>\n",
       "      <td>2017-12-14T06:00:00Z</td>\n",
       "      <td>True</td>\n",
       "      <td>Walmart.com</td>\n",
       "      <td>Expedited</td>\n",
       "      <td>...</td>\n",
       "      <td>NaN</td>\n",
       "      <td>https://images-na.ssl-images-amazon.com/images...</td>\n",
       "      <td>boytone2500w21chhometheatersystemblackdiamond/...</td>\n",
       "      <td>Boytone</td>\n",
       "      <td>BT-210F</td>\n",
       "      <td>Boytone - 2500W 2.1-Ch. Home Theater System - ...</td>\n",
       "      <td>Electronics</td>\n",
       "      <td>http://reviews.bestbuy.com/3545/4784804/review...</td>\n",
       "      <td>6.42E+11</td>\n",
       "      <td>14 pounds</td>\n",
       "    </tr>\n",
       "  </tbody>\n",
       "</table>\n",
       "<p>2 rows × 26 columns</p>\n",
       "</div>"
      ],
      "text/plain": [
       "                     id  prices.amountMax  prices.amountMin  \\\n",
       "0  AVphzgbJLJeJML43fA0o            104.99            104.99   \n",
       "1  AVpgMuGwLJeJML43KY_c             69.00             64.99   \n",
       "\n",
       "  prices.availability prices.condition prices.currency  \\\n",
       "0                 Yes              New             USD   \n",
       "1            In Stock              New             USD   \n",
       "\n",
       "                                     prices.dateSeen  prices.isSale  \\\n",
       "0  2017-03-30T06:00:00Z,2017-03-10T22:00:00Z,2017...          False   \n",
       "1                               2017-12-14T06:00:00Z           True   \n",
       "\n",
       "  prices.merchant prices.shipping  ...  ean  \\\n",
       "0     Bestbuy.com             NaN  ...  NaN   \n",
       "1     Walmart.com       Expedited  ...  NaN   \n",
       "\n",
       "                                           imageURLs  \\\n",
       "0  https://images-na.ssl-images-amazon.com/images...   \n",
       "1  https://images-na.ssl-images-amazon.com/images...   \n",
       "\n",
       "                                                keys manufacturer  \\\n",
       "0  sanusvlf410b110inchsuperslimfullmotionmountfor...          NaN   \n",
       "1  boytone2500w21chhometheatersystemblackdiamond/...      Boytone   \n",
       "\n",
       "  manufacturerNumber                                               name  \\\n",
       "0           VLF410B1  Sanus VLF410B1 10-Inch Super Slim Full-Motion ...   \n",
       "1            BT-210F  Boytone - 2500W 2.1-Ch. Home Theater System - ...   \n",
       "\n",
       "  primaryCategories                                         sourceURLs  \\\n",
       "0       Electronics  https://www.amazon.com/Sanus-VLF410B1-10-Inch-...   \n",
       "1       Electronics  http://reviews.bestbuy.com/3545/4784804/review...   \n",
       "\n",
       "        upc       weight  \n",
       "0  7.94E+11  32.8 pounds  \n",
       "1  6.42E+11    14 pounds  \n",
       "\n",
       "[2 rows x 26 columns]"
      ]
     },
     "execution_count": 64,
     "metadata": {},
     "output_type": "execute_result"
    }
   ],
   "source": [
    "df.drop([col for col in df.columns if \"Unnamed\" in col], axis = 1, inplace = True)\n",
    "df.head(2)"
   ]
  },
  {
   "cell_type": "markdown",
   "id": "6ff18862",
   "metadata": {},
   "source": [
    "\n",
    "\n",
    "Here is a list of the remaining columns -\n"
   ]
  },
  {
   "cell_type": "code",
   "execution_count": 65,
   "id": "98dfa7f8",
   "metadata": {},
   "outputs": [
    {
     "data": {
      "text/plain": [
       "Index(['id', 'prices.amountMax', 'prices.amountMin', 'prices.availability',\n",
       "       'prices.condition', 'prices.currency', 'prices.dateSeen',\n",
       "       'prices.isSale', 'prices.merchant', 'prices.shipping',\n",
       "       'prices.sourceURLs', 'asins', 'brand', 'categories', 'dateAdded',\n",
       "       'dateUpdated', 'ean', 'imageURLs', 'keys', 'manufacturer',\n",
       "       'manufacturerNumber', 'name', 'primaryCategories', 'sourceURLs', 'upc',\n",
       "       'weight'],\n",
       "      dtype='object')"
      ]
     },
     "execution_count": 65,
     "metadata": {},
     "output_type": "execute_result"
    }
   ],
   "source": [
    "df.columns"
   ]
  },
  {
   "cell_type": "markdown",
   "id": "39303cb5",
   "metadata": {},
   "source": [
    "\n",
    "\n",
    "From the list of columns, the following issues can be noticed - \n",
    "\n",
    "   * The list of columns shows that several columns are named incorrectly and have **\"prices.\"** as prefix.\n",
    "   * The columns **sourceURLs** appears twice. In this analysis we won't be using the **sourceURLs** or the **imageURLs**. So, these columns are dropped.\n",
    "\n",
    "Let's resolve these.\n"
   ]
  },
  {
   "cell_type": "code",
   "execution_count": 69,
   "id": "60b8cb97",
   "metadata": {},
   "outputs": [
    {
     "data": {
      "text/plain": [
       "Index(['id', 'amountMax', 'amountMin', 'availability', 'condition', 'currency',\n",
       "       'dateSeen', 'isSale', 'merchant', 'shipping', 'asins', 'brand',\n",
       "       'categories', 'dateAdded', 'dateUpdated', 'ean', 'keys', 'manufacturer',\n",
       "       'manufacturerNumber', 'name', 'primaryCategories', 'upc', 'weight'],\n",
       "      dtype='object')"
      ]
     },
     "execution_count": 69,
     "metadata": {},
     "output_type": "execute_result"
    }
   ],
   "source": [
    "df.columns = df.columns.str.replace(\"prices.\", \"\", regex = True)\n",
    "df.drop([\"sourceURLs\", \"imageURLs\"], axis = 1, inplace = True)\n",
    "df.columns\n",
    "    "
   ]
  },
  {
   "cell_type": "markdown",
   "id": "6c3945ad",
   "metadata": {},
   "source": [
    "The column list looks good. \n",
    "Most of the column names are self-explanatory. The **\"not so simple\"** columns are - \n",
    "   * **availability -** In stock or not. \n",
    "   * **condition -** New, used etc\n",
    "   * **asins -** Amazon Standard Identification Number\n",
    "   * **ean -** European Article Number\n",
    "   * **upc -** Universal Product Code\n",
    "\n"
   ]
  },
  {
   "cell_type": "markdown",
   "id": "f8e7e989",
   "metadata": {},
   "source": [
    "\n",
    "Let us have a look at the column data types and non-non values:\n",
    "\n"
   ]
  },
  {
   "cell_type": "code",
   "execution_count": 75,
   "id": "73454c87",
   "metadata": {},
   "outputs": [
    {
     "name": "stdout",
     "output_type": "stream",
     "text": [
      "<class 'pandas.core.frame.DataFrame'>\n",
      "RangeIndex: 7249 entries, 0 to 7248\n",
      "Data columns (total 23 columns):\n",
      " #   Column              Non-Null Count  Dtype  \n",
      "---  ------              --------------  -----  \n",
      " 0   id                  7249 non-null   object \n",
      " 1   amountMax           7249 non-null   float64\n",
      " 2   amountMin           7249 non-null   float64\n",
      " 3   availability        7249 non-null   object \n",
      " 4   condition           7249 non-null   object \n",
      " 5   currency            7249 non-null   object \n",
      " 6   dateSeen            7249 non-null   object \n",
      " 7   isSale              7249 non-null   bool   \n",
      " 8   merchant            7249 non-null   object \n",
      " 9   shipping            4277 non-null   object \n",
      " 10  asins               7249 non-null   object \n",
      " 11  brand               7249 non-null   object \n",
      " 12  categories          7249 non-null   object \n",
      " 13  dateAdded           7249 non-null   object \n",
      " 14  dateUpdated         7249 non-null   object \n",
      " 15  ean                 1543 non-null   object \n",
      " 16  keys                7249 non-null   object \n",
      " 17  manufacturer        3235 non-null   object \n",
      " 18  manufacturerNumber  7249 non-null   object \n",
      " 19  name                7249 non-null   object \n",
      " 20  primaryCategories   7249 non-null   object \n",
      " 21  upc                 7249 non-null   object \n",
      " 22  weight              7249 non-null   object \n",
      "dtypes: bool(1), float64(2), object(20)\n",
      "memory usage: 1.2+ MB\n"
     ]
    }
   ],
   "source": [
    "df.info()"
   ]
  },
  {
   "cell_type": "markdown",
   "id": "9bb423ab",
   "metadata": {},
   "source": [
    "\n",
    "\n",
    "The information above tells us that -\n",
    "\n",
    "   * Most columns have no missing values.\n",
    "   * Columns **shipping**, **ean** and **manufacturer** have significant number of missing values.\n",
    "   * The datatype of **dateAdded** and **dateUpdated** columns is \"object\" instead of \"datetime_object\"\n",
    "   * The datatype of the **weight** column is \"object\" instead of \"float\".\n",
    "\n",
    "The percentage of missing values are -\n",
    "\n"
   ]
  },
  {
   "cell_type": "code",
   "execution_count": 81,
   "id": "3d19ae40",
   "metadata": {},
   "outputs": [
    {
     "data": {
      "text/plain": [
       "shipping        40.998758\n",
       "manufacturer    55.373155\n",
       "ean             78.714305\n",
       "dtype: float64"
      ]
     },
     "execution_count": 81,
     "metadata": {},
     "output_type": "execute_result"
    }
   ],
   "source": [
    "df[[\"shipping\", \"manufacturer\", \"ean\"]].isnull().sum()*100/(df.shape[0])"
   ]
  },
  {
   "cell_type": "markdown",
   "id": "f9cffb0e",
   "metadata": {},
   "source": [
    "\n",
    "Let's explore the columns. \n",
    "\n",
    "**id** and **name** columns:"
   ]
  },
  {
   "cell_type": "code",
   "execution_count": 139,
   "id": "cfbb8011",
   "metadata": {},
   "outputs": [
    {
     "name": "stdout",
     "output_type": "stream",
     "text": [
      "The number of unique product IDs is : 835\n",
      "The number of unique product names is : 828\n"
     ]
    }
   ],
   "source": [
    "print(\"The number of unique product IDs is :\" , df.id.nunique())\n",
    "print(\"The number of unique product names is :\" , df.name.nunique())\n"
   ]
  },
  {
   "cell_type": "markdown",
   "id": "5b954356",
   "metadata": {},
   "source": [
    "So, there are a total of 835 different product IDs and 828 different profuct names. So, some IDs must have same names.\n",
    "\n",
    "The **id** and **name** of the rows where the **name** repeats are:\n"
   ]
  },
  {
   "cell_type": "code",
   "execution_count": 147,
   "id": "5de2da9b",
   "metadata": {},
   "outputs": [
    {
     "data": {
      "text/html": [
       "<div>\n",
       "<style scoped>\n",
       "    .dataframe tbody tr th:only-of-type {\n",
       "        vertical-align: middle;\n",
       "    }\n",
       "\n",
       "    .dataframe tbody tr th {\n",
       "        vertical-align: top;\n",
       "    }\n",
       "\n",
       "    .dataframe thead th {\n",
       "        text-align: right;\n",
       "    }\n",
       "</style>\n",
       "<table border=\"1\" class=\"dataframe\">\n",
       "  <thead>\n",
       "    <tr style=\"text-align: right;\">\n",
       "      <th></th>\n",
       "      <th>id</th>\n",
       "      <th>name</th>\n",
       "    </tr>\n",
       "  </thead>\n",
       "  <tbody>\n",
       "    <tr>\n",
       "      <th>20</th>\n",
       "      <td>AV0ox1E0vKc47QAVf8Pz</td>\n",
       "      <td>Yamaha - AVENTAGE 7.2-Ch. 4K Ultra HD A/V Home...</td>\n",
       "    </tr>\n",
       "    <tr>\n",
       "      <th>105</th>\n",
       "      <td>AV2ZpDBUvKc47QAVpH5Z</td>\n",
       "      <td>Pioneer - Elite 7.2-Ch. Hi-Res 4K Ultra HD HDR...</td>\n",
       "    </tr>\n",
       "    <tr>\n",
       "      <th>307</th>\n",
       "      <td>AVpfZaCp1cnluZ0-kDV9</td>\n",
       "      <td>15.4 MacBook Pro with Touch Bar (Late 2016, Sp...</td>\n",
       "    </tr>\n",
       "    <tr>\n",
       "      <th>333</th>\n",
       "      <td>AVpfiRcdilAPnD_xdfwQ</td>\n",
       "      <td>Panamax - 8-Outlet Power Conditioner/Surge Pro...</td>\n",
       "    </tr>\n",
       "    <tr>\n",
       "      <th>462</th>\n",
       "      <td>AVpgj4Cd1cnluZ0-3MKD</td>\n",
       "      <td>Panamax - 8-Outlet Power Conditioner/Surge Pro...</td>\n",
       "    </tr>\n",
       "    <tr>\n",
       "      <th>636</th>\n",
       "      <td>AVqVGTt2v8e3D1O-ldE7</td>\n",
       "      <td>SunBriteTV - Signature Series - 43 Class - LED...</td>\n",
       "    </tr>\n",
       "    <tr>\n",
       "      <th>637</th>\n",
       "      <td>AVqVGTt6U2_QcyX9Ozbx</td>\n",
       "      <td>SunBriteTV - Signature Series - 43 Class - LED...</td>\n",
       "    </tr>\n",
       "    <tr>\n",
       "      <th>644</th>\n",
       "      <td>AVqVGaCCU2_QcyX9Ozcf</td>\n",
       "      <td>15.4 MacBook Pro with Touch Bar (Late 2016, Sp...</td>\n",
       "    </tr>\n",
       "    <tr>\n",
       "      <th>658</th>\n",
       "      <td>AVqVHk9yU2_QcyX9Ozm8</td>\n",
       "      <td>House of Marley</td>\n",
       "    </tr>\n",
       "    <tr>\n",
       "      <th>681</th>\n",
       "      <td>AVqkHRDnv8e3D1O-leK1</td>\n",
       "      <td>House of Marley</td>\n",
       "    </tr>\n",
       "    <tr>\n",
       "      <th>740</th>\n",
       "      <td>AVz5wc0H-jtxr-f30F6_</td>\n",
       "      <td>Yamaha - AVENTAGE 7.2-Ch. 4K Ultra HD A/V Home...</td>\n",
       "    </tr>\n",
       "    <tr>\n",
       "      <th>741</th>\n",
       "      <td>AVz5wclz-jtxr-f30F66</td>\n",
       "      <td>Pioneer - Elite 7.2-Ch. Hi-Res 4K Ultra HD HDR...</td>\n",
       "    </tr>\n",
       "    <tr>\n",
       "      <th>742</th>\n",
       "      <td>AVz5wcrn-jtxr-f30F69</td>\n",
       "      <td>Yamaha - AVENTAGE 7.2-Ch. 4K Ultra HD A/V Home...</td>\n",
       "    </tr>\n",
       "  </tbody>\n",
       "</table>\n",
       "</div>"
      ],
      "text/plain": [
       "                       id                                               name\n",
       "20   AV0ox1E0vKc47QAVf8Pz  Yamaha - AVENTAGE 7.2-Ch. 4K Ultra HD A/V Home...\n",
       "105  AV2ZpDBUvKc47QAVpH5Z  Pioneer - Elite 7.2-Ch. Hi-Res 4K Ultra HD HDR...\n",
       "307  AVpfZaCp1cnluZ0-kDV9  15.4 MacBook Pro with Touch Bar (Late 2016, Sp...\n",
       "333  AVpfiRcdilAPnD_xdfwQ  Panamax - 8-Outlet Power Conditioner/Surge Pro...\n",
       "462  AVpgj4Cd1cnluZ0-3MKD  Panamax - 8-Outlet Power Conditioner/Surge Pro...\n",
       "636  AVqVGTt2v8e3D1O-ldE7  SunBriteTV - Signature Series - 43 Class - LED...\n",
       "637  AVqVGTt6U2_QcyX9Ozbx  SunBriteTV - Signature Series - 43 Class - LED...\n",
       "644  AVqVGaCCU2_QcyX9Ozcf  15.4 MacBook Pro with Touch Bar (Late 2016, Sp...\n",
       "658  AVqVHk9yU2_QcyX9Ozm8                                    House of Marley\n",
       "681  AVqkHRDnv8e3D1O-leK1                                    House of Marley\n",
       "740  AVz5wc0H-jtxr-f30F6_  Yamaha - AVENTAGE 7.2-Ch. 4K Ultra HD A/V Home...\n",
       "741  AVz5wclz-jtxr-f30F66  Pioneer - Elite 7.2-Ch. Hi-Res 4K Ultra HD HDR...\n",
       "742  AVz5wcrn-jtxr-f30F69  Yamaha - AVENTAGE 7.2-Ch. 4K Ultra HD A/V Home..."
      ]
     },
     "execution_count": 147,
     "metadata": {},
     "output_type": "execute_result"
    }
   ],
   "source": [
    "temp = df.groupby([\"id\", \"name\"])[[\"id\", \"name\"]].count()\n",
    "temp.columns = [\"ID count\", \"name count\"]\n",
    "temp.reset_index(inplace = True)\n",
    "temp1 = temp[temp.duplicated(subset = [\"name\"], keep = False)]\n",
    "temp1.drop([\"ID count\", \"name count\"], axis = 1)"
   ]
  },
  {
   "cell_type": "markdown",
   "id": "44193b34",
   "metadata": {},
   "source": [
    "Let's explore the **amountMax** and **amountMin** cloumns. But before that we need to make sure that all entries are in same currency. So, first the **currency** column must be checked.\n"
   ]
  },
  {
   "cell_type": "code",
   "execution_count": 177,
   "id": "be067913",
   "metadata": {},
   "outputs": [
    {
     "data": {
      "text/plain": [
       "USD    7248\n",
       "CAD       1\n",
       "Name: currency, dtype: int64"
      ]
     },
     "execution_count": 177,
     "metadata": {},
     "output_type": "execute_result"
    }
   ],
   "source": [
    "df.currency.value_counts()"
   ]
  },
  {
   "cell_type": "markdown",
   "id": "78d8873a",
   "metadata": {},
   "source": [
    "So, only 1 entry is in **CAD**. Let's convert it to **USD**. The exchange rate used is: \n",
    "\n",
    "   1 **CAD** = 0.77 **USD**."
   ]
  },
  {
   "cell_type": "code",
   "execution_count": 178,
   "id": "8da0176f",
   "metadata": {},
   "outputs": [],
   "source": [
    "#converting CAD to USD\n",
    "CAD_index = df.loc[df.currency == \"CAD\"].index\n",
    "for i in CAD_index:\n",
    "    df.amountMin = df.amountMin * 0.77\n",
    "    df.amountMax = df.amountMax * 0.77"
   ]
  },
  {
   "cell_type": "markdown",
   "id": "3d09ffe4",
   "metadata": {},
   "source": [
    "The summary statistics of the **amountMax** and **amountMin** columns is:"
   ]
  },
  {
   "cell_type": "code",
   "execution_count": 179,
   "id": "6763ee92",
   "metadata": {},
   "outputs": [
    {
     "data": {
      "text/html": [
       "<div>\n",
       "<style scoped>\n",
       "    .dataframe tbody tr th:only-of-type {\n",
       "        vertical-align: middle;\n",
       "    }\n",
       "\n",
       "    .dataframe tbody tr th {\n",
       "        vertical-align: top;\n",
       "    }\n",
       "\n",
       "    .dataframe thead th {\n",
       "        text-align: right;\n",
       "    }\n",
       "</style>\n",
       "<table border=\"1\" class=\"dataframe\">\n",
       "  <thead>\n",
       "    <tr style=\"text-align: right;\">\n",
       "      <th></th>\n",
       "      <th>amountMax</th>\n",
       "      <th>amountMin</th>\n",
       "    </tr>\n",
       "  </thead>\n",
       "  <tbody>\n",
       "    <tr>\n",
       "      <th>count</th>\n",
       "      <td>7249.000000</td>\n",
       "      <td>7249.000000</td>\n",
       "    </tr>\n",
       "    <tr>\n",
       "      <th>mean</th>\n",
       "      <td>381.558569</td>\n",
       "      <td>357.251514</td>\n",
       "    </tr>\n",
       "    <tr>\n",
       "      <th>std</th>\n",
       "      <td>587.971528</td>\n",
       "      <td>523.988470</td>\n",
       "    </tr>\n",
       "    <tr>\n",
       "      <th>min</th>\n",
       "      <td>0.770000</td>\n",
       "      <td>0.770000</td>\n",
       "    </tr>\n",
       "    <tr>\n",
       "      <th>25%</th>\n",
       "      <td>61.592300</td>\n",
       "      <td>61.561500</td>\n",
       "    </tr>\n",
       "    <tr>\n",
       "      <th>50%</th>\n",
       "      <td>153.222300</td>\n",
       "      <td>146.292300</td>\n",
       "    </tr>\n",
       "    <tr>\n",
       "      <th>75%</th>\n",
       "      <td>381.142300</td>\n",
       "      <td>369.592300</td>\n",
       "    </tr>\n",
       "    <tr>\n",
       "      <th>max</th>\n",
       "      <td>5389.992300</td>\n",
       "      <td>4619.992300</td>\n",
       "    </tr>\n",
       "  </tbody>\n",
       "</table>\n",
       "</div>"
      ],
      "text/plain": [
       "         amountMax    amountMin\n",
       "count  7249.000000  7249.000000\n",
       "mean    381.558569   357.251514\n",
       "std     587.971528   523.988470\n",
       "min       0.770000     0.770000\n",
       "25%      61.592300    61.561500\n",
       "50%     153.222300   146.292300\n",
       "75%     381.142300   369.592300\n",
       "max    5389.992300  4619.992300"
      ]
     },
     "execution_count": 179,
     "metadata": {},
     "output_type": "execute_result"
    }
   ],
   "source": [
    "temp = df[[\"amountMax\", \"amountMin\"]]\n",
    "temp.describe()"
   ]
  },
  {
   "cell_type": "code",
   "execution_count": 183,
   "id": "37df9696",
   "metadata": {},
   "outputs": [
    {
     "data": {
      "text/plain": [
       "amountMax    153.2223\n",
       "amountMin    146.2923\n",
       "dtype: float64"
      ]
     },
     "execution_count": 183,
     "metadata": {},
     "output_type": "execute_result"
    }
   ],
   "source": [
    "temp.median()"
   ]
  },
  {
   "cell_type": "code",
   "execution_count": 182,
   "id": "0a43e8ff",
   "metadata": {},
   "outputs": [
    {
     "data": {
      "image/png": "[encoded data removed]",
      "text/plain": [
       "<Figure size 432x288 with 1 Axes>"
      ]
     },
     "metadata": {
      "needs_background": "light"
     },
     "output_type": "display_data"
    }
   ],
   "source": [
    "temp.boxplot()\n",
    "plt.ylabel(\"Price [USD]\")\n",
    "plt.title(\"Distribution of 'amountMax' and 'amountMin' columns\");"
   ]
  },
  {
   "cell_type": "markdown",
   "id": "850e21a4",
   "metadata": {},
   "source": [
    "From the plot, it is evident that the data has many outliers which explain the huge standard deviations and the huge gap between the means and the medians.\n",
    "\n",
    "Checking if in any row has equal values in these two columns:"
   ]
  },
  {
   "cell_type": "code",
   "execution_count": 152,
   "id": "d3ee4407",
   "metadata": {},
   "outputs": [
    {
     "data": {
      "text/plain": [
       "90.81252586563664"
      ]
     },
     "execution_count": 152,
     "metadata": {},
     "output_type": "execute_result"
    }
   ],
   "source": [
    "df[df[\"amountMax\"] == df[\"amountMin\"]].shape[0]*100/df.shape[0]"
   ]
  },
  {
   "cell_type": "markdown",
   "id": "830801ee",
   "metadata": {},
   "source": [
    "It's clear that approximately 90% of the rows have same values in those two columns."
   ]
  },
  {
   "cell_type": "markdown",
   "id": "039b26bc",
   "metadata": {},
   "source": [
    "Let's move on to the availability column."
   ]
  },
  {
   "cell_type": "code",
   "execution_count": 160,
   "id": "2ae892b9",
   "metadata": {},
   "outputs": [
    {
     "data": {
      "text/html": [
       "<div>\n",
       "<style scoped>\n",
       "    .dataframe tbody tr th:only-of-type {\n",
       "        vertical-align: middle;\n",
       "    }\n",
       "\n",
       "    .dataframe tbody tr th {\n",
       "        vertical-align: top;\n",
       "    }\n",
       "\n",
       "    .dataframe thead th {\n",
       "        text-align: right;\n",
       "    }\n",
       "</style>\n",
       "<table border=\"1\" class=\"dataframe\">\n",
       "  <thead>\n",
       "    <tr style=\"text-align: right;\">\n",
       "      <th></th>\n",
       "      <th>count</th>\n",
       "    </tr>\n",
       "  </thead>\n",
       "  <tbody>\n",
       "    <tr>\n",
       "      <th>In Stock</th>\n",
       "      <td>3172</td>\n",
       "    </tr>\n",
       "    <tr>\n",
       "      <th>Yes</th>\n",
       "      <td>2136</td>\n",
       "    </tr>\n",
       "    <tr>\n",
       "      <th>yes</th>\n",
       "      <td>893</td>\n",
       "    </tr>\n",
       "    <tr>\n",
       "      <th>TRUE</th>\n",
       "      <td>663</td>\n",
       "    </tr>\n",
       "    <tr>\n",
       "      <th>Out Of Stock</th>\n",
       "      <td>115</td>\n",
       "    </tr>\n",
       "    <tr>\n",
       "      <th>Special Order</th>\n",
       "      <td>109</td>\n",
       "    </tr>\n",
       "    <tr>\n",
       "      <th>More on the Way</th>\n",
       "      <td>91</td>\n",
       "    </tr>\n",
       "    <tr>\n",
       "      <th>undefined</th>\n",
       "      <td>40</td>\n",
       "    </tr>\n",
       "    <tr>\n",
       "      <th>sold</th>\n",
       "      <td>22</td>\n",
       "    </tr>\n",
       "    <tr>\n",
       "      <th>No</th>\n",
       "      <td>4</td>\n",
       "    </tr>\n",
       "    <tr>\n",
       "      <th>FALSE</th>\n",
       "      <td>1</td>\n",
       "    </tr>\n",
       "    <tr>\n",
       "      <th>Retired</th>\n",
       "      <td>1</td>\n",
       "    </tr>\n",
       "    <tr>\n",
       "      <th>32 available</th>\n",
       "      <td>1</td>\n",
       "    </tr>\n",
       "    <tr>\n",
       "      <th>7 available</th>\n",
       "      <td>1</td>\n",
       "    </tr>\n",
       "  </tbody>\n",
       "</table>\n",
       "</div>"
      ],
      "text/plain": [
       "                 count\n",
       "In Stock          3172\n",
       "Yes               2136\n",
       "yes                893\n",
       "TRUE               663\n",
       "Out Of Stock       115\n",
       "Special Order      109\n",
       "More on the Way     91\n",
       "undefined           40\n",
       "sold                22\n",
       "No                   4\n",
       "FALSE                1\n",
       "Retired              1\n",
       "32 available         1\n",
       "7 available          1"
      ]
     },
     "execution_count": 160,
     "metadata": {},
     "output_type": "execute_result"
    }
   ],
   "source": [
    "temp = df.availability.value_counts().to_frame()\n",
    "temp.columns = [\"count\"]\n",
    "temp"
   ]
  },
  {
   "cell_type": "markdown",
   "id": "d9076f37",
   "metadata": {},
   "source": [
    "As we can guess, the values \"Yes\", \"yes\" and \"TRUE\" are same as \"In Stock\" and the values \"sold\", \"no\" and \"FALSE\" are same as \"Out Of Stock\". Let's make the changes:"
   ]
  },
  {
   "cell_type": "code",
   "execution_count": 163,
   "id": "eb562f26",
   "metadata": {},
   "outputs": [],
   "source": [
    "#Replacing values in columns with appropriate values\n",
    "df[\"availability\"].replace({\"yes\" : \"In Stock\", \n",
    "                            \"Yes\" : \"In Stock\", \n",
    "                            \"TRUE\" : \"In Stock\", \n",
    "                            \"sold\" : \"Out Of Stock\",\n",
    "                            \"No\" : \"Out Of Stock\",\n",
    "                            \"FALSE\" : \"Out Of Stock\",\n",
    "                            }, inplace = True)"
   ]
  },
  {
   "cell_type": "code",
   "execution_count": 164,
   "id": "ee72a381",
   "metadata": {},
   "outputs": [
    {
     "data": {
      "text/plain": [
       "In Stock           6864\n",
       "Out Of Stock        142\n",
       "Special Order       109\n",
       "More on the Way      91\n",
       "undefined            40\n",
       "Retired               1\n",
       "32 available          1\n",
       "7 available           1\n",
       "Name: availability, dtype: int64"
      ]
     },
     "execution_count": 164,
     "metadata": {},
     "output_type": "execute_result"
    }
   ],
   "source": [
    "df.availability.value_counts()"
   ]
  },
  {
   "cell_type": "markdown",
   "id": "2d07058d",
   "metadata": {},
   "source": [
    "Looks better.\n",
    "\n",
    "   Some products are out of stock. The **\"id\"**, **\"name\"** and **\"manufacturer\"** of these products are:\n",
    "    "
   ]
  },
  {
   "cell_type": "code",
   "execution_count": 170,
   "id": "aec84a66",
   "metadata": {},
   "outputs": [
    {
     "data": {
      "text/html": [
       "<div>\n",
       "<style scoped>\n",
       "    .dataframe tbody tr th:only-of-type {\n",
       "        vertical-align: middle;\n",
       "    }\n",
       "\n",
       "    .dataframe tbody tr th {\n",
       "        vertical-align: top;\n",
       "    }\n",
       "\n",
       "    .dataframe thead th {\n",
       "        text-align: right;\n",
       "    }\n",
       "</style>\n",
       "<table border=\"1\" class=\"dataframe\">\n",
       "  <thead>\n",
       "    <tr style=\"text-align: right;\">\n",
       "      <th></th>\n",
       "      <th>id</th>\n",
       "      <th>name</th>\n",
       "      <th>manufacturer</th>\n",
       "    </tr>\n",
       "  </thead>\n",
       "  <tbody>\n",
       "    <tr>\n",
       "      <th>120</th>\n",
       "      <td>AVpfLsb-ilAPnD_xWtDE</td>\n",
       "      <td>Kenwood KFC-1653MRW 6.5 2-way Marine Speakers ...</td>\n",
       "      <td>Kenwood</td>\n",
       "    </tr>\n",
       "    <tr>\n",
       "      <th>188</th>\n",
       "      <td>AVpgF1BOilAPnD_xnTsK</td>\n",
       "      <td>iHome Rechargeable Splash Proof Stereo Bluetoo...</td>\n",
       "      <td>iHome</td>\n",
       "    </tr>\n",
       "    <tr>\n",
       "      <th>203</th>\n",
       "      <td>AV1YFmcQglJLPUi8IGd1</td>\n",
       "      <td>Corsair CMSA8GX3M2A1066C7 Apple 8 GB Dual Chan...</td>\n",
       "      <td>NaN</td>\n",
       "    </tr>\n",
       "    <tr>\n",
       "      <th>282</th>\n",
       "      <td>AVpiLlubilAPnD_xBoTa</td>\n",
       "      <td>House of Marley Smile Jamaica In-Ear Earbuds</td>\n",
       "      <td>House Of Marley</td>\n",
       "    </tr>\n",
       "    <tr>\n",
       "      <th>393</th>\n",
       "      <td>AVpfC6mu1cnluZ0-cszY</td>\n",
       "      <td>Russound - Acclaim 5 Series 5-1/4 2-Way Indoor...</td>\n",
       "      <td>Russound</td>\n",
       "    </tr>\n",
       "  </tbody>\n",
       "</table>\n",
       "</div>"
      ],
      "text/plain": [
       "                       id                                               name  \\\n",
       "120  AVpfLsb-ilAPnD_xWtDE  Kenwood KFC-1653MRW 6.5 2-way Marine Speakers ...   \n",
       "188  AVpgF1BOilAPnD_xnTsK  iHome Rechargeable Splash Proof Stereo Bluetoo...   \n",
       "203  AV1YFmcQglJLPUi8IGd1  Corsair CMSA8GX3M2A1066C7 Apple 8 GB Dual Chan...   \n",
       "282  AVpiLlubilAPnD_xBoTa       House of Marley Smile Jamaica In-Ear Earbuds   \n",
       "393  AVpfC6mu1cnluZ0-cszY  Russound - Acclaim 5 Series 5-1/4 2-Way Indoor...   \n",
       "\n",
       "        manufacturer  \n",
       "120          Kenwood  \n",
       "188            iHome  \n",
       "203              NaN  \n",
       "282  House Of Marley  \n",
       "393         Russound  "
      ]
     },
     "execution_count": 170,
     "metadata": {},
     "output_type": "execute_result"
    }
   ],
   "source": [
    "Out_Of_Stock = df[df.availability ==\"Out Of Stock\"][[\"id\", \"name\", \"manufacturer\"]]\n",
    "Out_Of_Stock.head()"
   ]
  },
  {
   "cell_type": "code",
   "execution_count": null,
   "id": "6de5a851",
   "metadata": {},
   "outputs": [],
   "source": []
  }
 ],
 "metadata": {
  "kernelspec": {
   "display_name": "Python 3 (ipykernel)",
   "language": "python",
   "name": "python3"
  },
  "language_info": {
   "codemirror_mode": {
    "name": "ipython",
    "version": 3
   },
   "file_extension": ".py",
   "mimetype": "text/x-python",
   "name": "python",
   "nbconvert_exporter": "python",
   "pygments_lexer": "ipython3",
   "version": "3.8.10"
  }
 },
 "nbformat": 4,
 "nbformat_minor": 5
}
